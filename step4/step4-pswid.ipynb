{
 "cells": [
  {
   "cell_type": "code",
   "execution_count": 1,
   "metadata": {},
   "outputs": [],
   "source": [
    "import pandas as pd\n",
    "import re\n",
    "import os"
   ]
  },
  {
   "cell_type": "markdown",
   "metadata": {},
   "source": [
    "## Finding the PSWID "
   ]
  },
  {
   "cell_type": "code",
   "execution_count": 2,
   "metadata": {},
   "outputs": [],
   "source": [
    "# File paths (adjust if needed)\n",
    "community_file = 'PWS_Community.xlsx'\n",
    "material_file = 'all_files_initial_material.xlsx'\n"
   ]
  },
  {
   "cell_type": "code",
   "execution_count": 3,
   "metadata": {},
   "outputs": [],
   "source": [
    "# Read the community spreadsheet \n",
    "df_community = pd.read_excel(community_file)\n",
    "df_community = df_community  "
   ]
  },
  {
   "cell_type": "code",
   "execution_count": 4,
   "metadata": {},
   "outputs": [],
   "source": [
    "# Assumption: The community file has a column named 'PSWID'\n",
    "# Convert these values to strings and then to a set for faster lookup\n",
    "pswid_set = set(df_community['PWSID'].astype(str))"
   ]
  },
  {
   "cell_type": "code",
   "execution_count": 5,
   "metadata": {},
   "outputs": [],
   "source": [
    " # Read the material spreadsheet\n",
    "df_material = pd.read_excel(material_file)"
   ]
  },
  {
   "cell_type": "code",
   "execution_count": 6,
   "metadata": {},
   "outputs": [],
   "source": [
    "# Define a function to extract a PSWID from a given source file string.\n",
    "# This regex matches two uppercase letters followed by seven digits.\n",
    "def extract_pswid(source_str):\n",
    "    match = re.search(r'CT\\d{7}', source_str)\n",
    "    return match.group(0) if match else None"
   ]
  },
  {
   "cell_type": "code",
   "execution_count": 7,
   "metadata": {},
   "outputs": [],
   "source": [
    "# Ensure the 'source file' column is a string, then extract PSWID from it.\n",
    "df_material['extracted_pswid'] = df_material['SOURCE FILE'].astype(str).apply(extract_pswid)\n"
   ]
  },
  {
   "cell_type": "code",
   "execution_count": 8,
   "metadata": {},
   "outputs": [],
   "source": [
    "# Check if the extracted PSWID is in the community set\n",
    "df_material['is_match'] = df_material['extracted_pswid'].apply(lambda x: x in pswid_set if x else False)\n"
   ]
  },
  {
   "cell_type": "code",
   "execution_count": 9,
   "metadata": {},
   "outputs": [],
   "source": [
    "\n",
    "# ADD THIS ONE LINE ONLY:\n",
    "#df_material['Match'] = df_material['extracted_pswid'].isin(pswid_set)"
   ]
  },
  {
   "cell_type": "code",
   "execution_count": 10,
   "metadata": {},
   "outputs": [
    {
     "name": "stdout",
     "output_type": "stream",
     "text": [
      "Updated DataFrame saved to matched_pswids.xlsx\n"
     ]
    }
   ],
   "source": [
    "#save the updated DataFrame to a new Excel file\n",
    "output_file = 'matched_pswids.xlsx'\n",
    "df_material.to_excel(output_file, index=False)\n",
    "print(f\"Updated DataFrame saved to {output_file}\")"
   ]
  },
  {
   "cell_type": "markdown",
   "metadata": {},
   "source": [
    "## Filtering so it only shows the rows where there is an ID match in between the two files"
   ]
  },
  {
   "cell_type": "code",
   "execution_count": 11,
   "metadata": {},
   "outputs": [
    {
     "name": "stdout",
     "output_type": "stream",
     "text": [
      "Found 889468 matches out of 889624 records\n",
      "                                              SOURCE FILE extracted_pswid  \\\n",
      "0        CT0920242_LCRR_Inventory_Initial_10 16 2024.xlsx       CT0920242   \n",
      "1        CT0920242_LCRR_Inventory_Initial_10 16 2024.xlsx       CT0920242   \n",
      "2        CT0920242_LCRR_Inventory_Initial_10 16 2024.xlsx       CT0920242   \n",
      "3          CT0760021_LCRR_Inventory_Initial_10.16.24.xlsx       CT0760021   \n",
      "4          CT0760021_LCRR_Inventory_Initial_10.16.24.xlsx       CT0760021   \n",
      "...                                                   ...             ...   \n",
      "889619  CT0640011_LCRR_Inventory_Initial_10.16.24_Hart...       CT0640011   \n",
      "889620  CT0640011_LCRR_Inventory_Initial_10.16.24_Hart...       CT0640011   \n",
      "889621     CT0550274_LCRR_Inventory_Initial_10-14-24.xlsx       CT0550274   \n",
      "889622     CT0550274_LCRR_Inventory_Initial_10-14-24.xlsx       CT0550274   \n",
      "889623     CT0550274_LCRR_Inventory_Initial_10-14-24.xlsx       CT0550274   \n",
      "\n",
      "        is_match  \n",
      "0           True  \n",
      "1           True  \n",
      "2           True  \n",
      "3           True  \n",
      "4           True  \n",
      "...          ...  \n",
      "889619      True  \n",
      "889620      True  \n",
      "889621      True  \n",
      "889622      True  \n",
      "889623      True  \n",
      "\n",
      "[889468 rows x 3 columns]\n"
     ]
    }
   ],
   "source": [
    "# Optionally, filter and view only the rows with a match\n",
    "matched_rows = df_material[df_material['is_match']]\n",
    "print(f\"Found {len(matched_rows)} matches out of {len(df_material)} records\")\n",
    "print(matched_rows[['SOURCE FILE', 'extracted_pswid', 'is_match']])"
   ]
  },
  {
   "cell_type": "code",
   "execution_count": 12,
   "metadata": {},
   "outputs": [],
   "source": [
    "# Save the matched results to a new Excel file if needed\n",
    "matched_rows.to_excel('matched_pswids_only.xlsx', index=False)"
   ]
  }
 ],
 "metadata": {
  "kernelspec": {
   "display_name": "Python 3",
   "language": "python",
   "name": "python3"
  },
  "language_info": {
   "codemirror_mode": {
    "name": "ipython",
    "version": 3
   },
   "file_extension": ".py",
   "mimetype": "text/x-python",
   "name": "python",
   "nbconvert_exporter": "python",
   "pygments_lexer": "ipython3",
   "version": "3.10.15"
  }
 },
 "nbformat": 4,
 "nbformat_minor": 2
}
