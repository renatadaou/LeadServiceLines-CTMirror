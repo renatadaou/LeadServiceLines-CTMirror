{
 "cells": [
  {
   "cell_type": "code",
   "execution_count": 3,
   "metadata": {},
   "outputs": [],
   "source": [
    "import pandas as pd\n",
    "import re\n",
    "import os"
   ]
  },
  {
   "cell_type": "code",
   "execution_count": 4,
   "metadata": {},
   "outputs": [],
   "source": [
    "# File paths (adjust if needed)\n",
    "community_file = 'PWS_Community (2)(Sheet1).xlsx'\n",
    "material_file = 'all_files_initial_material.xlsx'\n"
   ]
  },
  {
   "cell_type": "code",
   "execution_count": 5,
   "metadata": {},
   "outputs": [],
   "source": [
    "# Read the community spreadsheet and limit to the first 60 rows\n",
    "df_community = pd.read_excel(community_file)\n",
    "df_community = df_community.head(60)  # first 60 rows"
   ]
  },
  {
   "cell_type": "code",
   "execution_count": 6,
   "metadata": {},
   "outputs": [],
   "source": [
    "# Assumption: The community file has a column named 'PSWID'\n",
    "# Convert these values to strings and then to a set for faster lookup\n",
    "pswid_set = set(df_community['PWSID'].astype(str))"
   ]
  },
  {
   "cell_type": "code",
   "execution_count": 7,
   "metadata": {},
   "outputs": [],
   "source": [
    " # Read the material spreadsheet\n",
    "df_material = pd.read_excel(material_file)"
   ]
  },
  {
   "cell_type": "code",
   "execution_count": 8,
   "metadata": {},
   "outputs": [],
   "source": [
    "# Define a function to extract a PSWID from a given source file string.\n",
    "# This regex matches two uppercase letters followed by seven digits.\n",
    "def extract_pswid(source_str):\n",
    "    match = re.search(r'CT\\d{7}', source_str)\n",
    "    return match.group(0) if match else None"
   ]
  },
  {
   "cell_type": "code",
   "execution_count": 9,
   "metadata": {},
   "outputs": [],
   "source": [
    "# Ensure the 'source file' column is a string, then extract PSWID from it.\n",
    "df_material['extracted_pswid'] = df_material['SOURCE FILE'].astype(str).apply(extract_pswid)\n"
   ]
  },
  {
   "cell_type": "code",
   "execution_count": 10,
   "metadata": {},
   "outputs": [],
   "source": [
    "# Check if the extracted PSWID is in the community set\n",
    "df_material['is_match'] = df_material['extracted_pswid'].apply(lambda x: x in pswid_set if x else False)\n"
   ]
  },
  {
   "cell_type": "code",
   "execution_count": 11,
   "metadata": {},
   "outputs": [
    {
     "name": "stdout",
     "output_type": "stream",
     "text": [
      "Found 857751 matches out of 889636 records\n",
      "                                              SOURCE FILE extracted_pswid  \\\n",
      "29          CT0070021_LCRR_Inventory_Initial_10.7.24.xlsx       CT0070021   \n",
      "30          CT0070021_LCRR_Inventory_Initial_10.7.24.xlsx       CT0070021   \n",
      "31          CT0070021_LCRR_Inventory_Initial_10.7.24.xlsx       CT0070021   \n",
      "32          CT0070021_LCRR_Inventory_Initial_10.7.24.xlsx       CT0070021   \n",
      "33          CT0070021_LCRR_Inventory_Initial_10.7.24.xlsx       CT0070021   \n",
      "...                                                   ...             ...   \n",
      "889628  CT0640011_LCRR_Inventory_Initial_10.16.24_Hart...       CT0640011   \n",
      "889629  CT0640011_LCRR_Inventory_Initial_10.16.24_Hart...       CT0640011   \n",
      "889630  CT0640011_LCRR_Inventory_Initial_10.16.24_Hart...       CT0640011   \n",
      "889631  CT0640011_LCRR_Inventory_Initial_10.16.24_Hart...       CT0640011   \n",
      "889632  CT0640011_LCRR_Inventory_Initial_10.16.24_Hart...       CT0640011   \n",
      "\n",
      "        is_match  \n",
      "29          True  \n",
      "30          True  \n",
      "31          True  \n",
      "32          True  \n",
      "33          True  \n",
      "...          ...  \n",
      "889628      True  \n",
      "889629      True  \n",
      "889630      True  \n",
      "889631      True  \n",
      "889632      True  \n",
      "\n",
      "[857751 rows x 3 columns]\n"
     ]
    }
   ],
   "source": [
    "\n",
    "# Optionally, filter and view only the rows with a match\n",
    "matched_rows = df_material[df_material['is_match']]\n",
    "print(f\"Found {len(matched_rows)} matches out of {len(df_material)} records\")\n",
    "print(matched_rows[['SOURCE FILE', 'extracted_pswid', 'is_match']])"
   ]
  },
  {
   "cell_type": "code",
   "execution_count": 12,
   "metadata": {},
   "outputs": [],
   "source": [
    "# Save the matched results to a new Excel file if needed\n",
    "matched_rows.to_excel('matched_pswids.xlsx', index=False)"
   ]
  },
  {
   "cell_type": "code",
   "execution_count": null,
   "metadata": {},
   "outputs": [],
   "source": []
  }
 ],
 "metadata": {
  "kernelspec": {
   "display_name": "3.10",
   "language": "python",
   "name": "python3"
  },
  "language_info": {
   "codemirror_mode": {
    "name": "ipython",
    "version": 3
   },
   "file_extension": ".py",
   "mimetype": "text/x-python",
   "name": "python",
   "nbconvert_exporter": "python",
   "pygments_lexer": "ipython3",
   "version": "3.10.15"
  }
 },
 "nbformat": 4,
 "nbformat_minor": 2
}
