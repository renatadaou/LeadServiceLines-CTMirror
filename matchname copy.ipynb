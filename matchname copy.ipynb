{
 "cells": [
  {
   "cell_type": "code",
   "execution_count": 7,
   "metadata": {},
   "outputs": [],
   "source": [
    "import pandas as pd"
   ]
  },
  {
   "cell_type": "code",
   "execution_count": 8,
   "metadata": {},
   "outputs": [],
   "source": [
    "\n",
    "# Read the base sheet\n",
    "df_base = pd.read_excel(\"matched_pswids.xlsx\")"
   ]
  },
  {
   "cell_type": "code",
   "execution_count": 9,
   "metadata": {},
   "outputs": [],
   "source": [
    "\n",
    "# Read the PWS_Community sheet (assuming the sheet name is Sheet1)\n",
    "df_lookup = pd.read_excel(\"PWS_Community (2)(Sheet1).xlsx\")"
   ]
  },
  {
   "cell_type": "code",
   "execution_count": 10,
   "metadata": {},
   "outputs": [],
   "source": [
    "\n",
    "# Modify the merge to match on 'PWSID' in one and 'extracted_pswid' in the other\n",
    "# Assuming df_base has 'extracted_pswid' and df_lookup has 'PWSID'\n",
    "df_merged = df_base.merge(\n",
    "    df_lookup[['PWSID', 'SYSTEM NAME']], \n",
    "    left_on='extracted_pswid',  # column in df_base\n",
    "    right_on='PWSID',           # column in df_lookup\n",
    "    how='left'\n",
    ")\n",
    "\n"
   ]
  },
  {
   "cell_type": "code",
   "execution_count": 11,
   "metadata": {},
   "outputs": [],
   "source": [
    "\n",
    "# Save the merged data to a new Excel file\n",
    "df_merged.to_excel(\"merged_output.xlsx\", index=False)"
   ]
  }
 ],
 "metadata": {
  "kernelspec": {
   "display_name": "3.10",
   "language": "python",
   "name": "python3"
  },
  "language_info": {
   "codemirror_mode": {
    "name": "ipython",
    "version": 3
   },
   "file_extension": ".py",
   "mimetype": "text/x-python",
   "name": "python",
   "nbconvert_exporter": "python",
   "pygments_lexer": "ipython3",
   "version": "3.10.15"
  }
 },
 "nbformat": 4,
 "nbformat_minor": 2
}
