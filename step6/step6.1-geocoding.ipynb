{
 "cells": [
  {
   "cell_type": "code",
   "execution_count": 2,
   "metadata": {},
   "outputs": [],
   "source": [
    "\n",
    "\n",
    "%load_ext rpy2.ipython\n",
    "%load_ext autoreload\n",
    "%autoreload 2\n",
    "\n",
    "%matplotlib inline  \n",
    "from matplotlib import rcParams\n",
    "rcParams['figure.figsize'] = (16, 100)\n",
    "\n",
    "import warnings\n",
    "from rpy2.rinterface import RRuntimeWarning\n",
    "warnings.filterwarnings(\"ignore\") # Ignore all warnings\n",
    "# warnings.filterwarnings(\"ignore\", category=RRuntimeWarning) # Show some warnings\n",
    "\n",
    "import pandas as pd\n",
    "import numpy as np\n",
    "import matplotlib.pyplot as plt\n",
    "from IPython.display import display, HTML\n",
    "# Import necessary libraries\n",
    "from geopy.geocoders import Nominatim\n",
    "import pandas as pd\n",
    "import geopandas as gpd"
   ]
  },
  {
   "cell_type": "code",
   "execution_count": 3,
   "metadata": {},
   "outputs": [
    {
     "name": "stdout",
     "output_type": "stream",
     "text": [
      "── Attaching core tidyverse packages ──────────────────────── tidyverse 2.0.0 ──\n",
      "✔ dplyr     1.1.4     ✔ readr     2.1.5\n",
      "✔ forcats   1.0.0     ✔ stringr   1.5.1\n",
      "✔ ggplot2   3.5.1     ✔ tibble    3.2.1\n",
      "✔ lubridate 1.9.3     ✔ tidyr     1.3.1\n",
      "✔ purrr     1.0.2     \n",
      "── Conflicts ────────────────────────────────────────── tidyverse_conflicts() ──\n",
      "✖ dplyr::filter() masks stats::filter()\n",
      "✖ dplyr::lag()    masks stats::lag()\n",
      "ℹ Use the conflicted package (<http://conflicted.r-lib.org/>) to force all conflicts to become errors\n"
     ]
    },
    {
     "data": {
      "text/plain": [
       "Loading required package: tidygeocoder\n"
      ]
     },
     "metadata": {},
     "output_type": "display_data"
    }
   ],
   "source": [
    "%%R\n",
    "\n",
    "# My commonly used R imports\n",
    "\n",
    "# Install tidygeocoder if it is not already installed\n",
    "if (!require(tidygeocoder)) {\n",
    "  install.packages(\"tidygeocoder\")\n",
    "}\n",
    "library(tidygeocoder)\n",
    "library(tidyverse)"
   ]
  },
  {
   "cell_type": "markdown",
   "metadata": {},
   "source": [
    "## Aquarion Water Co of CT-Main System"
   ]
  },
  {
   "cell_type": "code",
   "execution_count": 3,
   "metadata": {},
   "outputs": [
    {
     "name": "stdout",
     "output_type": "stream",
     "text": [
      "Rows: 3974 Columns: 15\n",
      "── Column specification ────────────────────────────────────────────────────────\n",
      "Delimiter: \",\"\n",
      "chr (11): LOCATION IDENTIFIER, STREET ADDRESS, TOWN, merged address, STATE, ...\n",
      "dbl  (1): SITE ID\n",
      "lgl  (3): STREET NUMBER, STREET NAME, is_match\n",
      "\n",
      "ℹ Use `spec()` to retrieve the full column specification for this data.\n",
      "ℹ Specify the column types or set `show_col_types = FALSE` to quiet this message.\n",
      "# A tibble: 6 × 15\n",
      "  `SITE ID` `LOCATION IDENTIFIER` `STREET ADDRESS`  TOWN  `merged address` STATE\n",
      "      <dbl> <chr>                 <chr>             <chr> <chr>            <chr>\n",
      "1 700000246 752 PARK AVE          752 PARK AVE      BRID… 752 PARK AVE BR… CT   \n",
      "2 700001555 745 HANCOCK AVE       745 HANCOCK AVE   BRID… 745 HANCOCK AVE… CT   \n",
      "3 700001611 725 PARK AVE          725 PARK AVE      BRID… 725 PARK AVE BR… CT   \n",
      "4 700001683 25 PRINCETON ST       25 PRINCETON ST   BRID… 25 PRINCETON ST… CT   \n",
      "5 700001756 459 IRANISTAN AVE     459 IRANISTAN AVE BRID… 459 IRANISTAN A… CT   \n",
      "6 700001878 95 JONES AVE          95 JONES AVE      BRID… 95 JONES AVE BR… CT   \n",
      "# ℹ 9 more variables: `ENTIRE SERVICE LINE MATERIAL CLASSIFICATION` <chr>,\n",
      "#   `BUILDING TYPE` <chr>, `SOURCE FILE` <chr>, `STREET NUMBER` <lgl>,\n",
      "#   `STREET NAME` <lgl>, extracted_pswid <chr>, is_match <lgl>, PWSID <chr>,\n",
      "#   `SYSTEM NAME` <chr>\n"
     ]
    }
   ],
   "source": [
    "%%R\n",
    "\n",
    "# Read in your CSV file (adjust the path if needed)\n",
    "data <- read_csv(\"Aquarion Water Co of CT-Main System.csv\")\n",
    "\n",
    "# Preview the data to check the column names and structure\n",
    "print(head(data))\n"
   ]
  },
  {
   "cell_type": "code",
   "execution_count": 4,
   "metadata": {},
   "outputs": [
    {
     "name": "stdout",
     "output_type": "stream",
     "text": [
      " [1] \"SITE ID\"                                    \n",
      " [2] \"LOCATION IDENTIFIER\"                        \n",
      " [3] \"STREET ADDRESS\"                             \n",
      " [4] \"TOWN\"                                       \n",
      " [5] \"merged address\"                             \n",
      " [6] \"STATE\"                                      \n",
      " [7] \"ENTIRE SERVICE LINE MATERIAL CLASSIFICATION\"\n",
      " [8] \"BUILDING TYPE\"                              \n",
      " [9] \"SOURCE FILE\"                                \n",
      "[10] \"STREET NUMBER\"                              \n",
      "[11] \"STREET NAME\"                                \n",
      "[12] \"extracted_pswid\"                            \n",
      "[13] \"is_match\"                                   \n",
      "[14] \"PWSID\"                                      \n",
      "[15] \"SYSTEM NAME\"                                \n"
     ]
    }
   ],
   "source": [
    "%%R\n",
    "\n",
    "colnames(data)\n",
    "# [1] \"SITE ID\" \"LOCATION IDENTIFIER\" \"STREET ADDRESS\" \"TOWN\" \"merged address\" \"STATE\" ...\n",
    "\n"
   ]
  },
  {
   "cell_type": "code",
   "execution_count": 5,
   "metadata": {},
   "outputs": [
    {
     "name": "stdout",
     "output_type": "stream",
     "text": [
      "# A tibble: 6 × 17\n",
      "  `SITE ID` `LOCATION IDENTIFIER` `STREET ADDRESS`  TOWN  `merged address` STATE\n",
      "      <dbl> <chr>                 <chr>             <chr> <chr>            <chr>\n",
      "1 700000246 752 PARK AVE          752 PARK AVE      BRID… 752 PARK AVE BR… CT   \n",
      "2 700001555 745 HANCOCK AVE       745 HANCOCK AVE   BRID… 745 HANCOCK AVE… CT   \n",
      "3 700001611 725 PARK AVE          725 PARK AVE      BRID… 725 PARK AVE BR… CT   \n",
      "4 700001683 25 PRINCETON ST       25 PRINCETON ST   BRID… 25 PRINCETON ST… CT   \n",
      "5 700001756 459 IRANISTAN AVE     459 IRANISTAN AVE BRID… 459 IRANISTAN A… CT   \n",
      "6 700001878 95 JONES AVE          95 JONES AVE      BRID… 95 JONES AVE BR… CT   \n",
      "# ℹ 11 more variables: `ENTIRE SERVICE LINE MATERIAL CLASSIFICATION` <chr>,\n",
      "#   `BUILDING TYPE` <chr>, `SOURCE FILE` <chr>, `STREET NUMBER` <lgl>,\n",
      "#   `STREET NAME` <lgl>, extracted_pswid <chr>, is_match <lgl>, PWSID <chr>,\n",
      "#   `SYSTEM NAME` <chr>, lat <dbl>, long <dbl>\n"
     ]
    },
    {
     "data": {
      "text/plain": [
       "Passing 3,944 addresses to the Nominatim single address geocoder\n"
      ]
     },
     "metadata": {},
     "output_type": "display_data"
    }
   ],
   "source": [
    "%%R\n",
    "\n",
    "\n",
    "# Geocode each row based on the 'merged address' column\n",
    "data_geocoded <- data %>%\n",
    "  geocode(address = `merged address`, method = \"osm\")\n",
    "\n",
    "# Check the results\n",
    "head(data_geocoded)\n"
   ]
  },
  {
   "cell_type": "code",
   "execution_count": 6,
   "metadata": {},
   "outputs": [
    {
     "name": "stdout",
     "output_type": "stream",
     "text": [
      "# A tibble: 3,974 × 17\n",
      "   `SITE ID` `LOCATION IDENTIFIER` `STREET ADDRESS` TOWN  `merged address` STATE\n",
      "       <dbl> <chr>                 <chr>            <chr> <chr>            <chr>\n",
      " 1 700000246 752 PARK AVE          752 PARK AVE     BRID… 752 PARK AVE BR… CT   \n",
      " 2 700001555 745 HANCOCK AVE       745 HANCOCK AVE  BRID… 745 HANCOCK AVE… CT   \n",
      " 3 700001611 725 PARK AVE          725 PARK AVE     BRID… 725 PARK AVE BR… CT   \n",
      " 4 700001683 25 PRINCETON ST       25 PRINCETON ST  BRID… 25 PRINCETON ST… CT   \n",
      " 5 700001756 459 IRANISTAN AVE     459 IRANISTAN A… BRID… 459 IRANISTAN A… CT   \n",
      " 6 700001878 95 JONES AVE          95 JONES AVE     BRID… 95 JONES AVE BR… CT   \n",
      " 7 700002813 241 PINE ST           241 PINE ST      BRID… 241 PINE ST BRI… CT   \n",
      " 8 700002952 24 WALLACE ST         24 WALLACE ST    BRID… 24 WALLACE ST B… CT   \n",
      " 9 700003044 3101 MAIN ST          3101 MAIN ST     BRID… 3101 MAIN ST BR… CT   \n",
      "10 700003374 522 FAIRFIELD AVE     522 FAIRFIELD A… BRID… 522 FAIRFIELD A… CT   \n",
      "# ℹ 3,964 more rows\n",
      "# ℹ 11 more variables: `ENTIRE SERVICE LINE MATERIAL CLASSIFICATION` <chr>,\n",
      "#   `BUILDING TYPE` <chr>, `SOURCE FILE` <chr>, `STREET NUMBER` <lgl>,\n",
      "#   `STREET NAME` <lgl>, extracted_pswid <chr>, is_match <lgl>, PWSID <chr>,\n",
      "#   `SYSTEM NAME` <chr>, lat <dbl>, long <dbl>\n",
      "# ℹ Use `print(n = ...)` to see more rows\n"
     ]
    }
   ],
   "source": [
    "%%R\n",
    "\n",
    "\n",
    "# Display the first few rows in the console\n",
    "head(data_geocoded)\n",
    "\n",
    "# Or print the entire data frame (if it's not too large)\n",
    "print(data_geocoded)\n"
   ]
  },
  {
   "cell_type": "code",
   "execution_count": 7,
   "metadata": {},
   "outputs": [],
   "source": [
    "%%R\n",
    "\n",
    "write_csv(data_geocoded, \"Aquarion_Water_Co_geocoded.csv\")\n"
   ]
  },
  {
   "cell_type": "markdown",
   "metadata": {},
   "source": [
    "## Windham Water Works"
   ]
  },
  {
   "cell_type": "code",
   "execution_count": 8,
   "metadata": {},
   "outputs": [
    {
     "name": "stdout",
     "output_type": "stream",
     "text": [
      "Rows: 329 Columns: 15\n",
      "── Column specification ────────────────────────────────────────────────────────\n",
      "Delimiter: \",\"\n",
      "chr (11): LOCATION IDENTIFIER, STREET ADDRESS, TOWN, merged address, STATE, ...\n",
      "dbl  (1): SITE ID\n",
      "lgl  (3): STREET NUMBER, STREET NAME, is_match\n",
      "\n",
      "ℹ Use `spec()` to retrieve the full column specification for this data.\n",
      "ℹ Specify the column types or set `show_col_types = FALSE` to quiet this message.\n",
      "# A tibble: 6 × 15\n",
      "  `SITE ID` `LOCATION IDENTIFIER` `STREET ADDRESS` TOWN   `merged address` STATE\n",
      "      <dbl> <chr>                 <chr>            <chr>  <chr>            <chr>\n",
      "1     40418 41.708, -72.206       27 Park St       Windh… 27 Park St Wind… CT   \n",
      "2     30329 41.706, -72.2         217 Windham Rd   Windh… 217 Windham Rd … CT   \n",
      "3     20521 41.718, -72.213       118 Chestnut St  Windh… 118 Chestnut St… CT   \n",
      "4     20959 41.717, -72.215       150 Walnut St    Windh… 150 Walnut St W… CT   \n",
      "5     20317 41.716, -72.193       348 Bricktop Rd  Windh… 348 Bricktop Rd… CT   \n",
      "6     31053 41.7, -72.21          327 South St     Windh… 327 South St Wi… CT   \n",
      "# ℹ 9 more variables: `ENTIRE SERVICE LINE MATERIAL CLASSIFICATION` <chr>,\n",
      "#   `BUILDING TYPE` <chr>, `SOURCE FILE` <chr>, `STREET NUMBER` <lgl>,\n",
      "#   `STREET NAME` <lgl>, extracted_pswid <chr>, is_match <lgl>, PWSID <chr>,\n",
      "#   `SYSTEM NAME` <chr>\n"
     ]
    }
   ],
   "source": [
    "%%R\n",
    "\n",
    "# Read in your CSV file (adjust the path if needed)\n",
    "data <- read_csv(\"Windham Water Works.csv\")\n",
    "\n",
    "# Preview the data to check the column names and structure\n",
    "print(head(data))"
   ]
  },
  {
   "cell_type": "code",
   "execution_count": 9,
   "metadata": {},
   "outputs": [
    {
     "name": "stdout",
     "output_type": "stream",
     "text": [
      "# A tibble: 6 × 17\n",
      "  `SITE ID` `LOCATION IDENTIFIER` `STREET ADDRESS` TOWN   `merged address` STATE\n",
      "      <dbl> <chr>                 <chr>            <chr>  <chr>            <chr>\n",
      "1     40418 41.708, -72.206       27 Park St       Windh… 27 Park St Wind… CT   \n",
      "2     30329 41.706, -72.2         217 Windham Rd   Windh… 217 Windham Rd … CT   \n",
      "3     20521 41.718, -72.213       118 Chestnut St  Windh… 118 Chestnut St… CT   \n",
      "4     20959 41.717, -72.215       150 Walnut St    Windh… 150 Walnut St W… CT   \n",
      "5     20317 41.716, -72.193       348 Bricktop Rd  Windh… 348 Bricktop Rd… CT   \n",
      "6     31053 41.7, -72.21          327 South St     Windh… 327 South St Wi… CT   \n",
      "# ℹ 11 more variables: `ENTIRE SERVICE LINE MATERIAL CLASSIFICATION` <chr>,\n",
      "#   `BUILDING TYPE` <chr>, `SOURCE FILE` <chr>, `STREET NUMBER` <lgl>,\n",
      "#   `STREET NAME` <lgl>, extracted_pswid <chr>, is_match <lgl>, PWSID <chr>,\n",
      "#   `SYSTEM NAME` <chr>, lat <dbl>, long <dbl>\n"
     ]
    },
    {
     "data": {
      "text/plain": [
       "Passing 329 addresses to the Nominatim single address geocoder\n"
      ]
     },
     "metadata": {},
     "output_type": "display_data"
    }
   ],
   "source": [
    "%%R\n",
    "\n",
    "\n",
    "# Geocode each row based on the 'merged address' column\n",
    "data_geocoded <- data %>%\n",
    "  geocode(address = `merged address`, method = \"osm\")\n",
    "\n",
    "# Check the results\n",
    "head(data_geocoded)"
   ]
  },
  {
   "cell_type": "code",
   "execution_count": 10,
   "metadata": {},
   "outputs": [
    {
     "name": "stdout",
     "output_type": "stream",
     "text": [
      "# A tibble: 329 × 17\n",
      "   `SITE ID` `LOCATION IDENTIFIER` `STREET ADDRESS` TOWN  `merged address` STATE\n",
      "       <dbl> <chr>                 <chr>            <chr> <chr>            <chr>\n",
      " 1     40418 41.708, -72.206       27 Park St       Wind… 27 Park St Wind… CT   \n",
      " 2     30329 41.706, -72.2         217 Windham Rd   Wind… 217 Windham Rd … CT   \n",
      " 3     20521 41.718, -72.213       118 Chestnut St  Wind… 118 Chestnut St… CT   \n",
      " 4     20959 41.717, -72.215       150 Walnut St    Wind… 150 Walnut St W… CT   \n",
      " 5     20317 41.716, -72.193       348 Bricktop Rd  Wind… 348 Bricktop Rd… CT   \n",
      " 6     31053 41.7, -72.21          327 South St     Wind… 327 South St Wi… CT   \n",
      " 7     10069 41.72, -72.201        169 Ash St.      Wind… 169 Ash St. Win… CT   \n",
      " 8     20009 41.713, -72.203       263 Main St      Wind… 263 Main St Win… CT   \n",
      " 9     31334 41.707, -72.208       190 S Park St    Wind… 190 S Park St W… CT   \n",
      "10     30813 41.709, -72.2         30 Potter St     Wind… 30 Potter St Wi… CT   \n",
      "# ℹ 319 more rows\n",
      "# ℹ 11 more variables: `ENTIRE SERVICE LINE MATERIAL CLASSIFICATION` <chr>,\n",
      "#   `BUILDING TYPE` <chr>, `SOURCE FILE` <chr>, `STREET NUMBER` <lgl>,\n",
      "#   `STREET NAME` <lgl>, extracted_pswid <chr>, is_match <lgl>, PWSID <chr>,\n",
      "#   `SYSTEM NAME` <chr>, lat <dbl>, long <dbl>\n",
      "# ℹ Use `print(n = ...)` to see more rows\n"
     ]
    }
   ],
   "source": [
    "%%R\n",
    "\n",
    "\n",
    "# Display the first few rows in the console\n",
    "head(data_geocoded)\n",
    "\n",
    "# Or print the entire data frame (if it's not too large)\n",
    "print(data_geocoded)"
   ]
  },
  {
   "cell_type": "code",
   "execution_count": 11,
   "metadata": {},
   "outputs": [],
   "source": [
    "%%R\n",
    "\n",
    "write_csv(data_geocoded, \"Windham_Water_Works_geocoded.csv\")"
   ]
  },
  {
   "cell_type": "markdown",
   "metadata": {},
   "source": [
    "## Waterbury Water Department"
   ]
  },
  {
   "cell_type": "code",
   "execution_count": 4,
   "metadata": {},
   "outputs": [
    {
     "name": "stdout",
     "output_type": "stream",
     "text": [
      "Rows: 952 Columns: 9\n",
      "── Column specification ────────────────────────────────────────────────────────\n",
      "Delimiter: \",\"\n",
      "chr (8): STREET ADDRESS, TOWN, merged address, STATE, ENTIRE SERVICE LINE MA...\n",
      "dbl (1): SITE ID\n",
      "\n",
      "ℹ Use `spec()` to retrieve the full column specification for this data.\n",
      "ℹ Specify the column types or set `show_col_types = FALSE` to quiet this message.\n",
      "# A tibble: 6 × 9\n",
      "  `SITE ID` `STREET ADDRESS` TOWN  `merged address` STATE ENTIRE SERVICE LINE …¹\n",
      "      <dbl> <chr>            <chr> <chr>            <chr> <chr>                 \n",
      "1    102148 120 EASTON AVE   Wate… 120 EASTON AVE … Conn… Lead                  \n",
      "2    102618 107 PLATT ST     Wate… 107 PLATT ST Wa… Conn… Lead                  \n",
      "3    103178 1089 NORTH MAIN… Wate… 1089 NORTH MAIN… Conn… Lead                  \n",
      "4    103188 1063 NORTH MAIN… Wate… 1063 NORTH MAIN… Conn… Lead                  \n",
      "5    103208 1043 NORTH MAIN… Wate… 1043 NORTH MAIN… Conn… Lead                  \n",
      "6    103218 1027 NORTH MAIN… Wate… 1027 NORTH MAIN… Conn… Lead                  \n",
      "# ℹ abbreviated name: ¹​`ENTIRE SERVICE LINE MATERIAL CLASSIFICATION`\n",
      "# ℹ 3 more variables: `BUILDING TYPE` <chr>, PWSID <chr>, `SYSTEM NAME` <chr>\n"
     ]
    }
   ],
   "source": [
    "%%R\n",
    "\n",
    "# Read in your CSV file (adjust the path if needed)\n",
    "data <- read_csv(\"Waterbury Water Department.csv\")\n",
    "\n",
    "# Preview the data to check the column names and structure\n",
    "print(head(data))"
   ]
  },
  {
   "cell_type": "code",
   "execution_count": 5,
   "metadata": {},
   "outputs": [
    {
     "name": "stdout",
     "output_type": "stream",
     "text": [
      "# A tibble: 6 × 11\n",
      "  `SITE ID` `STREET ADDRESS` TOWN  `merged address` STATE ENTIRE SERVICE LINE …¹\n",
      "      <dbl> <chr>            <chr> <chr>            <chr> <chr>                 \n",
      "1    102148 120 EASTON AVE   Wate… 120 EASTON AVE … Conn… Lead                  \n",
      "2    102618 107 PLATT ST     Wate… 107 PLATT ST Wa… Conn… Lead                  \n",
      "3    103178 1089 NORTH MAIN… Wate… 1089 NORTH MAIN… Conn… Lead                  \n",
      "4    103188 1063 NORTH MAIN… Wate… 1063 NORTH MAIN… Conn… Lead                  \n",
      "5    103208 1043 NORTH MAIN… Wate… 1043 NORTH MAIN… Conn… Lead                  \n",
      "6    103218 1027 NORTH MAIN… Wate… 1027 NORTH MAIN… Conn… Lead                  \n",
      "# ℹ abbreviated name: ¹​`ENTIRE SERVICE LINE MATERIAL CLASSIFICATION`\n",
      "# ℹ 5 more variables: `BUILDING TYPE` <chr>, PWSID <chr>, `SYSTEM NAME` <chr>,\n",
      "#   lat <dbl>, long <dbl>\n"
     ]
    },
    {
     "data": {
      "text/plain": [
       "Passing 852 addresses to the Nominatim single address geocoder\n"
      ]
     },
     "metadata": {},
     "output_type": "display_data"
    }
   ],
   "source": [
    "%%R\n",
    "\n",
    "\n",
    "# Geocode each row based on the 'merged address' column\n",
    "data_geocoded <- data %>%\n",
    "  geocode(address = `merged address`, method = \"osm\")\n",
    "\n",
    "# Check the results\n",
    "head(data_geocoded)"
   ]
  },
  {
   "cell_type": "code",
   "execution_count": 6,
   "metadata": {},
   "outputs": [
    {
     "name": "stdout",
     "output_type": "stream",
     "text": [
      "# A tibble: 952 × 11\n",
      "   `SITE ID` `STREET ADDRESS`   TOWN      `merged address`                 STATE\n",
      "       <dbl> <chr>              <chr>     <chr>                            <chr>\n",
      " 1    102148 120 EASTON AVE     Waterbury 120 EASTON AVE Waterbury Connec… Conn…\n",
      " 2    102618 107 PLATT ST       Waterbury 107 PLATT ST Waterbury Connecti… Conn…\n",
      " 3    103178 1089 NORTH MAIN ST Waterbury 1089 NORTH MAIN ST Waterbury Co… Conn…\n",
      " 4    103188 1063 NORTH MAIN ST Waterbury 1063 NORTH MAIN ST Waterbury Co… Conn…\n",
      " 5    103208 1043 NORTH MAIN ST Waterbury 1043 NORTH MAIN ST Waterbury Co… Conn…\n",
      " 6    103218 1027 NORTH MAIN ST Waterbury 1027 NORTH MAIN ST Waterbury Co… Conn…\n",
      " 7    103368 212 EASTON AVE     Waterbury 212 EASTON AVE Waterbury Connec… Conn…\n",
      " 8    103428 213 EASTON AVE     Waterbury 213 EASTON AVE Waterbury Connec… Conn…\n",
      " 9    103478 1208 NORTH MAIN ST Waterbury 1208 NORTH MAIN ST Waterbury Co… Conn…\n",
      "10    103488 1214 NORTH MAIN ST Waterbury 1214 NORTH MAIN ST Waterbury Co… Conn…\n",
      "# ℹ 942 more rows\n",
      "# ℹ 6 more variables: `ENTIRE SERVICE LINE MATERIAL CLASSIFICATION` <chr>,\n",
      "#   `BUILDING TYPE` <chr>, PWSID <chr>, `SYSTEM NAME` <chr>, lat <dbl>,\n",
      "#   long <dbl>\n",
      "# ℹ Use `print(n = ...)` to see more rows\n"
     ]
    }
   ],
   "source": [
    "%%R\n",
    "\n",
    "\n",
    "# Display the first few rows in the console\n",
    "head(data_geocoded)\n",
    "\n",
    "# Or print the entire data frame (if it's not too large)\n",
    "print(data_geocoded)"
   ]
  },
  {
   "cell_type": "code",
   "execution_count": 7,
   "metadata": {},
   "outputs": [],
   "source": [
    "%%R\n",
    "\n",
    "write_csv(data_geocoded, \"Waterbury_Water_Department_geocoded.csv\")"
   ]
  },
  {
   "cell_type": "markdown",
   "metadata": {},
   "source": [
    "## New London Dept. of Public Utilities"
   ]
  },
  {
   "cell_type": "code",
   "execution_count": 9,
   "metadata": {},
   "outputs": [
    {
     "name": "stdout",
     "output_type": "stream",
     "text": [
      "Rows: 526 Columns: 9\n",
      "── Column specification ────────────────────────────────────────────────────────\n",
      "Delimiter: \",\"\n",
      "chr (9): SITE ID, STREET ADDRESS, TOWN, merged address, STATE, ENTIRE SERVIC...\n",
      "\n",
      "ℹ Use `spec()` to retrieve the full column specification for this data.\n",
      "ℹ Specify the column types or set `show_col_types = FALSE` to quiet this message.\n",
      "# A tibble: 6 × 9\n",
      "  `SITE ID` `STREET ADDRESS` TOWN  `merged address` STATE ENTIRE SERVICE LINE …¹\n",
      "  <chr>     <chr>            <chr> <chr>            <chr> <chr>                 \n",
      "1 6 - 40620 1 COLVER ST      New … 1 COLVER ST New… CT    Lead                  \n",
      "2 63 - 383… 10 Lyman Ct      New … 10 Lyman Ct New… CT    Lead                  \n",
      "3 75 - 385… 10 ROSEMARY ST   New … 10 ROSEMARY ST … CT    Lead                  \n",
      "4 94 - 388… 100 SCHOOL ST    New … 100 SCHOOL ST N… CT    Lead                  \n",
      "5 99 - 406… 1000 OCEAN AVE   New … 1000 OCEAN AVE … CT    Lead                  \n",
      "6 100 - 41… 1001 OCEAN AVE   New … 1001 OCEAN AVE … CT    Lead                  \n",
      "# ℹ abbreviated name: ¹​`ENTIRE SERVICE LINE MATERIAL CLASSIFICATION`\n",
      "# ℹ 3 more variables: `BUILDING TYPE` <chr>, PWSID <chr>, `SYSTEM NAME` <chr>\n"
     ]
    }
   ],
   "source": [
    "%%R\n",
    "\n",
    "# Read in your CSV file (adjust the path if needed)\n",
    "data <- read_csv(\"New London Dept. of Public Utilities.csv\")\n",
    "\n",
    "# Preview the data to check the column names and structure\n",
    "print(head(data))"
   ]
  },
  {
   "cell_type": "code",
   "execution_count": 10,
   "metadata": {},
   "outputs": [
    {
     "name": "stdout",
     "output_type": "stream",
     "text": [
      "# A tibble: 6 × 11\n",
      "  `SITE ID` `STREET ADDRESS` TOWN  `merged address` STATE ENTIRE SERVICE LINE …¹\n",
      "  <chr>     <chr>            <chr> <chr>            <chr> <chr>                 \n",
      "1 6 - 40620 1 COLVER ST      New … 1 COLVER ST New… CT    Lead                  \n",
      "2 63 - 383… 10 Lyman Ct      New … 10 Lyman Ct New… CT    Lead                  \n",
      "3 75 - 385… 10 ROSEMARY ST   New … 10 ROSEMARY ST … CT    Lead                  \n",
      "4 94 - 388… 100 SCHOOL ST    New … 100 SCHOOL ST N… CT    Lead                  \n",
      "5 99 - 406… 1000 OCEAN AVE   New … 1000 OCEAN AVE … CT    Lead                  \n",
      "6 100 - 41… 1001 OCEAN AVE   New … 1001 OCEAN AVE … CT    Lead                  \n",
      "# ℹ abbreviated name: ¹​`ENTIRE SERVICE LINE MATERIAL CLASSIFICATION`\n",
      "# ℹ 5 more variables: `BUILDING TYPE` <chr>, PWSID <chr>, `SYSTEM NAME` <chr>,\n",
      "#   lat <dbl>, long <dbl>\n"
     ]
    },
    {
     "data": {
      "text/plain": [
       "Passing 526 addresses to the Nominatim single address geocoder\n"
      ]
     },
     "metadata": {},
     "output_type": "display_data"
    }
   ],
   "source": [
    "%%R\n",
    "\n",
    "\n",
    "# Geocode each row based on the 'merged address' column\n",
    "data_geocoded <- data %>%\n",
    "  geocode(address = `merged address`, method = \"osm\")\n",
    "\n",
    "# Check the results\n",
    "head(data_geocoded)"
   ]
  },
  {
   "cell_type": "code",
   "execution_count": 11,
   "metadata": {},
   "outputs": [
    {
     "name": "stdout",
     "output_type": "stream",
     "text": [
      "# A tibble: 526 × 11\n",
      "   `SITE ID`   `STREET ADDRESS` TOWN       `merged address`              STATE\n",
      "   <chr>       <chr>            <chr>      <chr>                         <chr>\n",
      " 1 6 - 40620   1 COLVER ST      New London 1 COLVER ST New London CT     CT   \n",
      " 2 63 - 38321  10 Lyman Ct      New London 10 Lyman Ct New London CT     CT   \n",
      " 3 75 - 38501  10 ROSEMARY ST   New London 10 ROSEMARY ST New London CT  CT   \n",
      " 4 94 - 38859  100 SCHOOL ST    New London 100 SCHOOL ST New London CT   CT   \n",
      " 5 99 - 40630  1000 OCEAN AVE   New London 1000 OCEAN AVE New London CT  CT   \n",
      " 6 100 - 41156 1001 OCEAN AVE   New London 1001 OCEAN AVE New London CT  CT   \n",
      " 7 106 - 40981 1007 PEQUOT AVE  New London 1007 PEQUOT AVE New London CT CT   \n",
      " 8 112 - 38326 101 COLMAN ST    New London 101 COLMAN ST New London CT   CT   \n",
      " 9 118 - 40632 101 TRUMAN ST    New London 101 TRUMAN ST New London CT   CT   \n",
      "10 120 - 40801 1011 BANK ST     New London 1011 BANK ST New London CT    CT   \n",
      "# ℹ 516 more rows\n",
      "# ℹ 6 more variables: `ENTIRE SERVICE LINE MATERIAL CLASSIFICATION` <chr>,\n",
      "#   `BUILDING TYPE` <chr>, PWSID <chr>, `SYSTEM NAME` <chr>, lat <dbl>,\n",
      "#   long <dbl>\n",
      "# ℹ Use `print(n = ...)` to see more rows\n"
     ]
    }
   ],
   "source": [
    "%%R\n",
    "\n",
    "\n",
    "# Display the first few rows in the console\n",
    "head(data_geocoded)\n",
    "\n",
    "# Or print the entire data frame (if it's not too large)\n",
    "print(data_geocoded)"
   ]
  },
  {
   "cell_type": "code",
   "execution_count": 12,
   "metadata": {},
   "outputs": [],
   "source": [
    "%%R\n",
    "\n",
    "write_csv(data_geocoded, \"New_London_geocoded.csv\")"
   ]
  },
  {
   "cell_type": "markdown",
   "metadata": {},
   "source": [
    "## Aquarion Water Co of CT-Greenwich"
   ]
  },
  {
   "cell_type": "code",
   "execution_count": 15,
   "metadata": {},
   "outputs": [
    {
     "name": "stdout",
     "output_type": "stream",
     "text": [
      "Rows: 1552 Columns: 9\n",
      "── Column specification ────────────────────────────────────────────────────────\n",
      "Delimiter: \",\"\n",
      "chr (8): STREET ADDRESS, TOWN, merged address, STATE, ENTIRE SERVICE LINE MA...\n",
      "dbl (1): SITE ID\n",
      "\n",
      "ℹ Use `spec()` to retrieve the full column specification for this data.\n",
      "ℹ Specify the column types or set `show_col_types = FALSE` to quiet this message.\n",
      "# A tibble: 6 × 9\n",
      "  `SITE ID` `STREET ADDRESS` TOWN  `merged address` STATE ENTIRE SERVICE LINE …¹\n",
      "      <dbl> <chr>            <chr> <chr>            <chr> <chr>                 \n",
      "1 700152103 9 TINGUE ST      BYRAM 9 TINGUE ST BYR… CT    Lead                  \n",
      "2 700164929 223 COGNEWAUGH … COS … 223 COGNEWAUGH … CT    Lead                  \n",
      "3 700224686 48 VALLEY RD     COS … 48 VALLEY RD CO… CT    Lead                  \n",
      "4 700148694 30 RIVER RD      COS … 30 RIVER RD COS… CT    Lead                  \n",
      "5 700148819 8 MIAMI CT       COS … 8 MIAMI CT COS … CT    Lead                  \n",
      "6 700148826 6 MIAMI CT       COS … 6 MIAMI CT COS … CT    Lead                  \n",
      "# ℹ abbreviated name: ¹​`ENTIRE SERVICE LINE MATERIAL CLASSIFICATION`\n",
      "# ℹ 3 more variables: `BUILDING TYPE` <chr>, PWSID <chr>, `SYSTEM NAME` <chr>\n"
     ]
    }
   ],
   "source": [
    "%%R\n",
    "\n",
    "# Read in your CSV file (adjust the path if needed)\n",
    "data <- read_csv(\"Aquarion Water Co of CT-Greenwich.csv\")\n",
    "\n",
    "# Preview the data to check the column names and structure\n",
    "print(head(data))"
   ]
  },
  {
   "cell_type": "code",
   "execution_count": 16,
   "metadata": {},
   "outputs": [
    {
     "name": "stdout",
     "output_type": "stream",
     "text": [
      "# A tibble: 6 × 11\n",
      "  `SITE ID` `STREET ADDRESS` TOWN  `merged address` STATE ENTIRE SERVICE LINE …¹\n",
      "      <dbl> <chr>            <chr> <chr>            <chr> <chr>                 \n",
      "1 700152103 9 TINGUE ST      BYRAM 9 TINGUE ST BYR… CT    Lead                  \n",
      "2 700164929 223 COGNEWAUGH … COS … 223 COGNEWAUGH … CT    Lead                  \n",
      "3 700224686 48 VALLEY RD     COS … 48 VALLEY RD CO… CT    Lead                  \n",
      "4 700148694 30 RIVER RD      COS … 30 RIVER RD COS… CT    Lead                  \n",
      "5 700148819 8 MIAMI CT       COS … 8 MIAMI CT COS … CT    Lead                  \n",
      "6 700148826 6 MIAMI CT       COS … 6 MIAMI CT COS … CT    Lead                  \n",
      "# ℹ abbreviated name: ¹​`ENTIRE SERVICE LINE MATERIAL CLASSIFICATION`\n",
      "# ℹ 5 more variables: `BUILDING TYPE` <chr>, PWSID <chr>, `SYSTEM NAME` <chr>,\n",
      "#   lat <dbl>, long <dbl>\n"
     ]
    },
    {
     "data": {
      "text/plain": [
       "Passing 1,549 addresses to the Nominatim single address geocoder\n"
      ]
     },
     "metadata": {},
     "output_type": "display_data"
    }
   ],
   "source": [
    "%%R\n",
    "\n",
    "\n",
    "# Geocode each row based on the 'merged address' column\n",
    "data_geocoded <- data %>%\n",
    "  geocode(address = `merged address`, method = \"osm\")\n",
    "\n",
    "# Check the results\n",
    "head(data_geocoded)"
   ]
  },
  {
   "cell_type": "code",
   "execution_count": 17,
   "metadata": {},
   "outputs": [
    {
     "name": "stdout",
     "output_type": "stream",
     "text": [
      "# A tibble: 1,552 × 11\n",
      "   `SITE ID` `STREET ADDRESS`  TOWN    `merged address`             STATE\n",
      "       <dbl> <chr>             <chr>   <chr>                        <chr>\n",
      " 1 700152103 9 TINGUE ST       BYRAM   9 TINGUE ST BYRAM CT         CT   \n",
      " 2 700164929 223 COGNEWAUGH RD COS COB 223 COGNEWAUGH RD COS COB CT CT   \n",
      " 3 700224686 48 VALLEY RD      COS COB 48 VALLEY RD COS COB CT      CT   \n",
      " 4 700148694 30 RIVER RD       COS COB 30 RIVER RD COS COB CT       CT   \n",
      " 5 700148819 8 MIAMI CT        COS COB 8 MIAMI CT COS COB CT        CT   \n",
      " 6 700148826 6 MIAMI CT        COS COB 6 MIAMI CT COS COB CT        CT   \n",
      " 7 700148837 4 MEAD AVE        COS COB 4 MEAD AVE COS COB CT        CT   \n",
      " 8 700148914 521 E PUTNAM AVE  COS COB 521 E PUTNAM AVE COS COB CT  CT   \n",
      " 9 700148930 525 E PUTNAM AVE  COS COB 525 E PUTNAM AVE COS COB CT  CT   \n",
      "10 700148936 531 PUTNAM AVE E  COS COB 531 PUTNAM AVE E COS COB CT  CT   \n",
      "# ℹ 1,542 more rows\n",
      "# ℹ 6 more variables: `ENTIRE SERVICE LINE MATERIAL CLASSIFICATION` <chr>,\n",
      "#   `BUILDING TYPE` <chr>, PWSID <chr>, `SYSTEM NAME` <chr>, lat <dbl>,\n",
      "#   long <dbl>\n",
      "# ℹ Use `print(n = ...)` to see more rows\n"
     ]
    }
   ],
   "source": [
    "%%R\n",
    "\n",
    "\n",
    "# Display the first few rows in the console\n",
    "head(data_geocoded)\n",
    "\n",
    "# Or print the entire data frame (if it's not too large)\n",
    "print(data_geocoded)"
   ]
  },
  {
   "cell_type": "code",
   "execution_count": 18,
   "metadata": {},
   "outputs": [],
   "source": [
    "%%R\n",
    "\n",
    "write_csv(data_geocoded, \"Aquarion_Greenwich_geocoded.csv\")"
   ]
  },
  {
   "cell_type": "markdown",
   "metadata": {},
   "source": [
    "## Middletown Water Department"
   ]
  },
  {
   "cell_type": "code",
   "execution_count": 19,
   "metadata": {},
   "outputs": [
    {
     "name": "stdout",
     "output_type": "stream",
     "text": [
      "Rows: 257 Columns: 9\n",
      "── Column specification ────────────────────────────────────────────────────────\n",
      "Delimiter: \",\"\n",
      "chr (9): SITE ID, STREET ADDRESS, TOWN, merged address, STATE, ENTIRE SERVIC...\n",
      "\n",
      "ℹ Use `spec()` to retrieve the full column specification for this data.\n",
      "ℹ Specify the column types or set `show_col_types = FALSE` to quiet this message.\n",
      "# A tibble: 6 × 9\n",
      "  `SITE ID` `STREET ADDRESS` TOWN  `merged address` STATE ENTIRE SERVICE LINE …¹\n",
      "  <chr>     <chr>            <chr> <chr>            <chr> <chr>                 \n",
      "1 00000007R 353 MAIN STREET  MIDD… 353 MAIN STREET… CT    Lead                  \n",
      "2 00000032C 291 MAIN STREET  MIDD… 291 MAIN STREET… CT    Lead                  \n",
      "3 00000042R 241 COURT STREET MIDD… 241 COURT STREE… CT    Lead                  \n",
      "4 00000050R 346 MAIN STREET  MIDD… 346 MAIN STREET… CT    Lead                  \n",
      "5 00000071R 318 MAIN STREET  MIDD… 318 MAIN STREET… CT    Lead                  \n",
      "6 00000093R 15 PORTLAND STR… MIDD… 15 PORTLAND STR… CT    Lead                  \n",
      "# ℹ abbreviated name: ¹​`ENTIRE SERVICE LINE MATERIAL CLASSIFICATION`\n",
      "# ℹ 3 more variables: `BUILDING TYPE` <chr>, PWSID <chr>, `SYSTEM NAME` <chr>\n"
     ]
    }
   ],
   "source": [
    "%%R\n",
    "\n",
    "# Read in your CSV file (adjust the path if needed)\n",
    "data <- read_csv(\"Middletown Water Department.csv\")\n",
    "\n",
    "# Preview the data to check the column names and structure\n",
    "print(head(data))"
   ]
  },
  {
   "cell_type": "code",
   "execution_count": 20,
   "metadata": {},
   "outputs": [
    {
     "name": "stdout",
     "output_type": "stream",
     "text": [
      "# A tibble: 6 × 11\n",
      "  `SITE ID` `STREET ADDRESS` TOWN  `merged address` STATE ENTIRE SERVICE LINE …¹\n",
      "  <chr>     <chr>            <chr> <chr>            <chr> <chr>                 \n",
      "1 00000007R 353 MAIN STREET  MIDD… 353 MAIN STREET… CT    Lead                  \n",
      "2 00000032C 291 MAIN STREET  MIDD… 291 MAIN STREET… CT    Lead                  \n",
      "3 00000042R 241 COURT STREET MIDD… 241 COURT STREE… CT    Lead                  \n",
      "4 00000050R 346 MAIN STREET  MIDD… 346 MAIN STREET… CT    Lead                  \n",
      "5 00000071R 318 MAIN STREET  MIDD… 318 MAIN STREET… CT    Lead                  \n",
      "6 00000093R 15 PORTLAND STR… MIDD… 15 PORTLAND STR… CT    Lead                  \n",
      "# ℹ abbreviated name: ¹​`ENTIRE SERVICE LINE MATERIAL CLASSIFICATION`\n",
      "# ℹ 5 more variables: `BUILDING TYPE` <chr>, PWSID <chr>, `SYSTEM NAME` <chr>,\n",
      "#   lat <dbl>, long <dbl>\n"
     ]
    },
    {
     "data": {
      "text/plain": [
       "Passing 257 addresses to the Nominatim single address geocoder\n"
      ]
     },
     "metadata": {},
     "output_type": "display_data"
    }
   ],
   "source": [
    "%%R\n",
    "\n",
    "\n",
    "# Geocode each row based on the 'merged address' column\n",
    "data_geocoded <- data %>%\n",
    "  geocode(address = `merged address`, method = \"osm\")\n",
    "\n",
    "# Check the results\n",
    "head(data_geocoded)"
   ]
  },
  {
   "cell_type": "code",
   "execution_count": 21,
   "metadata": {},
   "outputs": [
    {
     "name": "stdout",
     "output_type": "stream",
     "text": [
      "# A tibble: 257 × 11\n",
      "   `SITE ID` `STREET ADDRESS`   TOWN       `merged address`                STATE\n",
      "   <chr>     <chr>              <chr>      <chr>                           <chr>\n",
      " 1 00000007R 353 MAIN STREET    MIDDLETOWN 353 MAIN STREET MIDDLETOWN CT   CT   \n",
      " 2 00000032C 291 MAIN STREET    MIDDLETOWN 291 MAIN STREET MIDDLETOWN CT   CT   \n",
      " 3 00000042R 241 COURT STREET   MIDDLETOWN 241 COURT STREET MIDDLETOWN CT  CT   \n",
      " 4 00000050R 346 MAIN STREET    MIDDLETOWN 346 MAIN STREET MIDDLETOWN CT   CT   \n",
      " 5 00000071R 318 MAIN STREET    MIDDLETOWN 318 MAIN STREET MIDDLETOWN CT   CT   \n",
      " 6 00000093R 15 PORTLAND STREET MIDDLETOWN 15 PORTLAND STREET MIDDLETOWN … CT   \n",
      " 7 00000095R 13 LIBERTY STREET  MIDDLETOWN 13 LIBERTY STREET MIDDLETOWN CT CT   \n",
      " 8 00000102R 111 RESERVOIR ROAD MIDDLETOWN 111 RESERVOIR ROAD MIDDLETOWN … CT   \n",
      " 9 00000156R 430 BOSTON ROAD    MIDDLETOWN 430 BOSTON ROAD MIDDLETOWN CT   CT   \n",
      "10 00000165R 186 COLLEGE STREET MIDDLETOWN 186 COLLEGE STREET MIDDLETOWN … CT   \n",
      "# ℹ 247 more rows\n",
      "# ℹ 6 more variables: `ENTIRE SERVICE LINE MATERIAL CLASSIFICATION` <chr>,\n",
      "#   `BUILDING TYPE` <chr>, PWSID <chr>, `SYSTEM NAME` <chr>, lat <dbl>,\n",
      "#   long <dbl>\n",
      "# ℹ Use `print(n = ...)` to see more rows\n"
     ]
    }
   ],
   "source": [
    "%%R\n",
    "\n",
    "\n",
    "# Display the first few rows in the console\n",
    "head(data_geocoded)\n",
    "\n",
    "# Or print the entire data frame (if it's not too large)\n",
    "print(data_geocoded)"
   ]
  },
  {
   "cell_type": "code",
   "execution_count": 22,
   "metadata": {},
   "outputs": [],
   "source": [
    "%%R\n",
    "\n",
    "write_csv(data_geocoded, \"Middletown_geocoded.csv\")"
   ]
  },
  {
   "cell_type": "markdown",
   "metadata": {},
   "source": [
    "## Meriden Water Division"
   ]
  },
  {
   "cell_type": "code",
   "execution_count": 23,
   "metadata": {},
   "outputs": [
    {
     "name": "stdout",
     "output_type": "stream",
     "text": [
      "Rows: 17245 Columns: 14\n",
      "── Column specification ────────────────────────────────────────────────────────\n",
      "Delimiter: \",\"\n",
      "chr (10): LOCATION IDENTIFIER, STREET ADDRESS, TOWN, STATE, ENTIRE SERVICE L...\n",
      "dbl  (1): SITE ID\n",
      "lgl  (3): STREET NUMBER, STREET NAME, is_match\n",
      "\n",
      "ℹ Use `spec()` to retrieve the full column specification for this data.\n",
      "ℹ Specify the column types or set `show_col_types = FALSE` to quiet this message.\n",
      "# A tibble: 6 × 14\n",
      "  `SITE ID` `LOCATION IDENTIFIER`    `STREET ADDRESS` TOWN    STATE\n",
      "      <dbl> <chr>                    <chr>            <chr>   <chr>\n",
      "1    113440 41.52868569,-72.78358041 84 DEXTER AVE    MERIDEN CT   \n",
      "2    113442 41.54866818,-72.79577167 96 WILCOX AVE    MERIDEN CT   \n",
      "3    113444 41.53827141,-72.81606451 62 BRADLEY AVE   MERIDEN CT   \n",
      "4    113446 41.54638539,-72.82102614 70 CORRIGAN AVE  MERIDEN CT   \n",
      "5    113448 41.52092511,-72.82961438 42 MEADOW ST     MERIDEN CT   \n",
      "6    113450 41.52066789,-72.82489188 11 MCKENZIE AVE  MERIDEN CT   \n",
      "# ℹ 9 more variables: `ENTIRE SERVICE LINE MATERIAL CLASSIFICATION` <chr>,\n",
      "#   `BUILDING TYPE` <chr>, `SOURCE FILE` <chr>, `STREET NUMBER` <lgl>,\n",
      "#   `STREET NAME` <lgl>, extracted_pswid <chr>, is_match <lgl>, PWSID <chr>,\n",
      "#   `SYSTEM NAME` <chr>\n"
     ]
    }
   ],
   "source": [
    "%%R\n",
    "\n",
    "# Read in your CSV file (adjust the path if needed)\n",
    "data <- read_csv(\"Meriden Water Division.csv\")\n",
    "\n",
    "# Preview the data to check the column names and structure\n",
    "print(head(data))"
   ]
  },
  {
   "cell_type": "code",
   "execution_count": 24,
   "metadata": {},
   "outputs": [
    {
     "name": "stdout",
     "output_type": "stream",
     "text": [
      "Error: \"merged address\" is not a column name in the input dataset.\n"
     ]
    },
    {
     "ename": "RInterpreterError",
     "evalue": "Failed to parse and evaluate line '\\n\\n# Geocode each row based on the \\'merged address\\' column\\ndata_geocoded <- data %>%\\n  geocode(address = `merged address`, method = \"osm\")\\n\\n# Check the results\\nhead(data_geocoded)\\n'.\nR error message: 'Error: \"merged address\" is not a column name in the input dataset.'",
     "output_type": "error",
     "traceback": [
      "\u001b[0;31m---------------------------------------------------------------------------\u001b[0m",
      "\u001b[0;31mRRuntimeError\u001b[0m                             Traceback (most recent call last)",
      "File \u001b[0;32m/usr/local/lib/python3.10/site-packages/rpy2/ipython/rmagic.py:407\u001b[0m, in \u001b[0;36mRMagics.eval\u001b[0;34m(self, code)\u001b[0m\n\u001b[1;32m    406\u001b[0m     r_expr \u001b[38;5;241m=\u001b[39m ri\u001b[38;5;241m.\u001b[39mparse(code)\n\u001b[0;32m--> 407\u001b[0m     value, visible \u001b[38;5;241m=\u001b[39m \u001b[43mri\u001b[49m\u001b[38;5;241;43m.\u001b[39;49m\u001b[43mevalr_expr_with_visible\u001b[49m\u001b[43m(\u001b[49m\n\u001b[1;32m    408\u001b[0m \u001b[43m        \u001b[49m\u001b[43mr_expr\u001b[49m\n\u001b[1;32m    409\u001b[0m \u001b[43m    \u001b[49m\u001b[43m)\u001b[49m\n\u001b[1;32m    410\u001b[0m \u001b[38;5;28;01mexcept\u001b[39;00m (ri\u001b[38;5;241m.\u001b[39membedded\u001b[38;5;241m.\u001b[39mRRuntimeError, \u001b[38;5;167;01mValueError\u001b[39;00m) \u001b[38;5;28;01mas\u001b[39;00m exception:\n\u001b[1;32m    411\u001b[0m     \u001b[38;5;66;03m# Otherwise next return seems to have copy of error.\u001b[39;00m\n",
      "File \u001b[0;32m/usr/local/lib/python3.10/site-packages/rpy2/rinterface.py:192\u001b[0m, in \u001b[0;36mevalr_expr_with_visible\u001b[0;34m(expr, envir)\u001b[0m\n\u001b[1;32m    191\u001b[0m \u001b[38;5;28;01mif\u001b[39;00m error_occured[\u001b[38;5;241m0\u001b[39m]:\n\u001b[0;32m--> 192\u001b[0m     \u001b[38;5;28;01mraise\u001b[39;00m embedded\u001b[38;5;241m.\u001b[39mRRuntimeError(_rinterface\u001b[38;5;241m.\u001b[39m_geterrmessage())\n\u001b[1;32m    193\u001b[0m res \u001b[38;5;241m=\u001b[39m conversion\u001b[38;5;241m.\u001b[39m_cdata_to_rinterface(r_res)\n",
      "\u001b[0;31mRRuntimeError\u001b[0m: Error: \"merged address\" is not a column name in the input dataset.\n",
      "\nDuring handling of the above exception, another exception occurred:\n",
      "\u001b[0;31mRInterpreterError\u001b[0m                         Traceback (most recent call last)",
      "Cell \u001b[0;32mIn[24], line 1\u001b[0m\n\u001b[0;32m----> 1\u001b[0m \u001b[43mget_ipython\u001b[49m\u001b[43m(\u001b[49m\u001b[43m)\u001b[49m\u001b[38;5;241;43m.\u001b[39;49m\u001b[43mrun_cell_magic\u001b[49m\u001b[43m(\u001b[49m\u001b[38;5;124;43m'\u001b[39;49m\u001b[38;5;124;43mR\u001b[39;49m\u001b[38;5;124;43m'\u001b[39;49m\u001b[43m,\u001b[49m\u001b[43m \u001b[49m\u001b[38;5;124;43m'\u001b[39;49m\u001b[38;5;124;43m'\u001b[39;49m\u001b[43m,\u001b[49m\u001b[43m \u001b[49m\u001b[38;5;124;43m'\u001b[39;49m\u001b[38;5;130;43;01m\\n\u001b[39;49;00m\u001b[38;5;130;43;01m\\n\u001b[39;49;00m\u001b[38;5;124;43m# Geocode each row based on the \u001b[39;49m\u001b[38;5;130;43;01m\\'\u001b[39;49;00m\u001b[38;5;124;43mmerged address\u001b[39;49m\u001b[38;5;130;43;01m\\'\u001b[39;49;00m\u001b[38;5;124;43m column\u001b[39;49m\u001b[38;5;130;43;01m\\n\u001b[39;49;00m\u001b[38;5;124;43mdata_geocoded <- data \u001b[39;49m\u001b[38;5;124;43m%\u001b[39;49m\u001b[38;5;124;43m>\u001b[39;49m\u001b[38;5;124;43m%\u001b[39;49m\u001b[38;5;130;43;01m\\n\u001b[39;49;00m\u001b[38;5;124;43m  geocode(address = `merged address`, method = \u001b[39;49m\u001b[38;5;124;43m\"\u001b[39;49m\u001b[38;5;124;43mosm\u001b[39;49m\u001b[38;5;124;43m\"\u001b[39;49m\u001b[38;5;124;43m)\u001b[39;49m\u001b[38;5;130;43;01m\\n\u001b[39;49;00m\u001b[38;5;130;43;01m\\n\u001b[39;49;00m\u001b[38;5;124;43m# Check the results\u001b[39;49m\u001b[38;5;130;43;01m\\n\u001b[39;49;00m\u001b[38;5;124;43mhead(data_geocoded)\u001b[39;49m\u001b[38;5;130;43;01m\\n\u001b[39;49;00m\u001b[38;5;124;43m'\u001b[39;49m\u001b[43m)\u001b[49m\n",
      "File \u001b[0;32m/usr/local/lib/python3.10/site-packages/IPython/core/interactiveshell.py:2422\u001b[0m, in \u001b[0;36mInteractiveShell.run_cell_magic\u001b[0;34m(self, magic_name, line, cell)\u001b[0m\n\u001b[1;32m   2420\u001b[0m \u001b[38;5;28;01mwith\u001b[39;00m \u001b[38;5;28mself\u001b[39m\u001b[38;5;241m.\u001b[39mbuiltin_trap:\n\u001b[1;32m   2421\u001b[0m     args \u001b[38;5;241m=\u001b[39m (magic_arg_s, cell)\n\u001b[0;32m-> 2422\u001b[0m     result \u001b[38;5;241m=\u001b[39m \u001b[43mfn\u001b[49m\u001b[43m(\u001b[49m\u001b[38;5;241;43m*\u001b[39;49m\u001b[43margs\u001b[49m\u001b[43m,\u001b[49m\u001b[43m \u001b[49m\u001b[38;5;241;43m*\u001b[39;49m\u001b[38;5;241;43m*\u001b[39;49m\u001b[43mkwargs\u001b[49m\u001b[43m)\u001b[49m\n\u001b[1;32m   2423\u001b[0m \u001b[38;5;28;01mreturn\u001b[39;00m result\n",
      "File \u001b[0;32m/usr/local/lib/python3.10/site-packages/rpy2/ipython/rmagic.py:984\u001b[0m, in \u001b[0;36mRMagics.R\u001b[0;34m(self, line, cell, local_ns)\u001b[0m\n\u001b[1;32m    982\u001b[0m     \u001b[38;5;28;01mif\u001b[39;00m \u001b[38;5;129;01mnot\u001b[39;00m e\u001b[38;5;241m.\u001b[39mstdout\u001b[38;5;241m.\u001b[39mendswith(e\u001b[38;5;241m.\u001b[39merr):\n\u001b[1;32m    983\u001b[0m         \u001b[38;5;28mprint\u001b[39m(e\u001b[38;5;241m.\u001b[39merr)\n\u001b[0;32m--> 984\u001b[0m     \u001b[38;5;28;01mraise\u001b[39;00m e\n\u001b[1;32m    985\u001b[0m \u001b[38;5;28;01mfinally\u001b[39;00m:\n\u001b[1;32m    986\u001b[0m     \u001b[38;5;28;01mif\u001b[39;00m \u001b[38;5;28mself\u001b[39m\u001b[38;5;241m.\u001b[39mdevice \u001b[38;5;129;01min\u001b[39;00m DEVICES_STATIC:\n",
      "File \u001b[0;32m/usr/local/lib/python3.10/site-packages/rpy2/ipython/rmagic.py:949\u001b[0m, in \u001b[0;36mRMagics.R\u001b[0;34m(self, line, cell, local_ns)\u001b[0m\n\u001b[1;32m    947\u001b[0m         return_output \u001b[38;5;241m=\u001b[39m \u001b[38;5;28;01mFalse\u001b[39;00m\n\u001b[1;32m    948\u001b[0m \u001b[38;5;28;01melse\u001b[39;00m:\n\u001b[0;32m--> 949\u001b[0m     text_result, result, visible \u001b[38;5;241m=\u001b[39m \u001b[38;5;28;43mself\u001b[39;49m\u001b[38;5;241;43m.\u001b[39;49m\u001b[43meval\u001b[49m\u001b[43m(\u001b[49m\u001b[43mcode\u001b[49m\u001b[43m)\u001b[49m\n\u001b[1;32m    950\u001b[0m     text_output \u001b[38;5;241m+\u001b[39m\u001b[38;5;241m=\u001b[39m text_result\n\u001b[1;32m    951\u001b[0m     \u001b[38;5;28;01mif\u001b[39;00m visible:\n",
      "File \u001b[0;32m/usr/local/lib/python3.10/site-packages/rpy2/ipython/rmagic.py:413\u001b[0m, in \u001b[0;36mRMagics.eval\u001b[0;34m(self, code)\u001b[0m\n\u001b[1;32m    410\u001b[0m \u001b[38;5;28;01mexcept\u001b[39;00m (ri\u001b[38;5;241m.\u001b[39membedded\u001b[38;5;241m.\u001b[39mRRuntimeError, \u001b[38;5;167;01mValueError\u001b[39;00m) \u001b[38;5;28;01mas\u001b[39;00m exception:\n\u001b[1;32m    411\u001b[0m     \u001b[38;5;66;03m# Otherwise next return seems to have copy of error.\u001b[39;00m\n\u001b[1;32m    412\u001b[0m     warning_or_other_msg \u001b[38;5;241m=\u001b[39m \u001b[38;5;28mself\u001b[39m\u001b[38;5;241m.\u001b[39mflush()\n\u001b[0;32m--> 413\u001b[0m     \u001b[38;5;28;01mraise\u001b[39;00m RInterpreterError(code, \u001b[38;5;28mstr\u001b[39m(exception),\n\u001b[1;32m    414\u001b[0m                             warning_or_other_msg)\n\u001b[1;32m    415\u001b[0m \u001b[38;5;28;01mfinally\u001b[39;00m:\n\u001b[1;32m    416\u001b[0m     ro\u001b[38;5;241m.\u001b[39m_print_deferred_warnings()\n",
      "\u001b[0;31mRInterpreterError\u001b[0m: Failed to parse and evaluate line '\\n\\n# Geocode each row based on the \\'merged address\\' column\\ndata_geocoded <- data %>%\\n  geocode(address = `merged address`, method = \"osm\")\\n\\n# Check the results\\nhead(data_geocoded)\\n'.\nR error message: 'Error: \"merged address\" is not a column name in the input dataset.'"
     ]
    }
   ],
   "source": [
    "%%R\n",
    "\n",
    "\n",
    "# Geocode each row based on the 'merged address' column\n",
    "data_geocoded <- data %>%\n",
    "  geocode(address = `merged address`, method = \"osm\")\n",
    "\n",
    "# Check the results\n",
    "head(data_geocoded)"
   ]
  },
  {
   "cell_type": "code",
   "execution_count": null,
   "metadata": {},
   "outputs": [],
   "source": []
  }
 ],
 "metadata": {
  "kernelspec": {
   "display_name": "Python 3",
   "language": "python",
   "name": "python3"
  },
  "language_info": {
   "codemirror_mode": {
    "name": "ipython",
    "version": 3
   },
   "file_extension": ".py",
   "mimetype": "text/x-python",
   "name": "python",
   "nbconvert_exporter": "python",
   "pygments_lexer": "ipython3",
   "version": "3.10.15"
  }
 },
 "nbformat": 4,
 "nbformat_minor": 2
}
