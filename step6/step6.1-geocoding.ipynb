{
 "cells": [
  {
   "cell_type": "code",
   "execution_count": 2,
   "metadata": {},
   "outputs": [],
   "source": [
    "\n",
    "\n",
    "%load_ext rpy2.ipython\n",
    "%load_ext autoreload\n",
    "%autoreload 2\n",
    "\n",
    "%matplotlib inline  \n",
    "from matplotlib import rcParams\n",
    "rcParams['figure.figsize'] = (16, 100)\n",
    "\n",
    "import warnings\n",
    "from rpy2.rinterface import RRuntimeWarning\n",
    "warnings.filterwarnings(\"ignore\") # Ignore all warnings\n",
    "# warnings.filterwarnings(\"ignore\", category=RRuntimeWarning) # Show some warnings\n",
    "\n",
    "import pandas as pd\n",
    "import numpy as np\n",
    "import matplotlib.pyplot as plt\n",
    "from IPython.display import display, HTML\n",
    "# Import necessary libraries\n",
    "from geopy.geocoders import Nominatim\n",
    "import pandas as pd\n",
    "import geopandas as gpd"
   ]
  },
  {
   "cell_type": "code",
   "execution_count": 3,
   "metadata": {},
   "outputs": [
    {
     "name": "stdout",
     "output_type": "stream",
     "text": [
      "── Attaching core tidyverse packages ──────────────────────── tidyverse 2.0.0 ──\n",
      "✔ dplyr     1.1.4     ✔ readr     2.1.5\n",
      "✔ forcats   1.0.0     ✔ stringr   1.5.1\n",
      "✔ ggplot2   3.5.1     ✔ tibble    3.2.1\n",
      "✔ lubridate 1.9.3     ✔ tidyr     1.3.1\n",
      "✔ purrr     1.0.2     \n",
      "── Conflicts ────────────────────────────────────────── tidyverse_conflicts() ──\n",
      "✖ dplyr::filter() masks stats::filter()\n",
      "✖ dplyr::lag()    masks stats::lag()\n",
      "ℹ Use the conflicted package (<http://conflicted.r-lib.org/>) to force all conflicts to become errors\n"
     ]
    },
    {
     "data": {
      "text/plain": [
       "Loading required package: tidygeocoder\n"
      ]
     },
     "metadata": {},
     "output_type": "display_data"
    }
   ],
   "source": [
    "%%R\n",
    "\n",
    "# My commonly used R imports\n",
    "\n",
    "# Install tidygeocoder if it is not already installed\n",
    "if (!require(tidygeocoder)) {\n",
    "  install.packages(\"tidygeocoder\")\n",
    "}\n",
    "library(tidygeocoder)\n",
    "library(tidyverse)"
   ]
  },
  {
   "cell_type": "markdown",
   "metadata": {},
   "source": [
    "## Aquarion Water Co of CT-Main System"
   ]
  },
  {
   "cell_type": "code",
   "execution_count": 9,
   "metadata": {},
   "outputs": [
    {
     "name": "stdout",
     "output_type": "stream",
     "text": [
      "Rows: 3948 Columns: 9\n",
      "── Column specification ────────────────────────────────────────────────────────\n",
      "Delimiter: \",\"\n",
      "chr (8): LOCATION IDENTIFIER, STREET ADDRESS, TOWN, merged address, STATE, B...\n",
      "dbl (1): SITE ID\n",
      "\n",
      "ℹ Use `spec()` to retrieve the full column specification for this data.\n",
      "ℹ Specify the column types or set `show_col_types = FALSE` to quiet this message.\n",
      "# A tibble: 6 × 9\n",
      "  `SITE ID` `LOCATION IDENTIFIER` `STREET ADDRESS`  TOWN  `merged address` STATE\n",
      "      <dbl> <chr>                 <chr>             <chr> <chr>            <chr>\n",
      "1 700000246 752 PARK AVE          752 PARK AVE      BRID… 752 PARK AVE BR… CT   \n",
      "2 700001555 745 HANCOCK AVE       745 HANCOCK AVE   BRID… 745 HANCOCK AVE… CT   \n",
      "3 700001611 725 PARK AVE          725 PARK AVE      BRID… 725 PARK AVE BR… CT   \n",
      "4 700001683 25 PRINCETON ST       25 PRINCETON ST   BRID… 25 PRINCETON ST… CT   \n",
      "5 700001756 459 IRANISTAN AVE     459 IRANISTAN AVE BRID… 459 IRANISTAN A… CT   \n",
      "6 700001878 95 JONES AVE          95 JONES AVE      BRID… 95 JONES AVE BR… CT   \n",
      "# ℹ 3 more variables: `BUILDING TYPE` <chr>, PWSID <chr>, `SYSTEM NAME` <chr>\n"
     ]
    }
   ],
   "source": [
    "%%R\n",
    "\n",
    "# Read in your CSV file (adjust the path if needed)\n",
    "data <- read_csv(\"Aquarion Water Co of CT-Main System.csv\")\n",
    "\n",
    "# Preview the data to check the column names and structure\n",
    "print(head(data))\n"
   ]
  },
  {
   "cell_type": "code",
   "execution_count": 10,
   "metadata": {},
   "outputs": [
    {
     "name": "stdout",
     "output_type": "stream",
     "text": [
      "[1] \"SITE ID\"             \"LOCATION IDENTIFIER\" \"STREET ADDRESS\"     \n",
      "[4] \"TOWN\"                \"merged address\"      \"STATE\"              \n",
      "[7] \"BUILDING TYPE\"       \"PWSID\"               \"SYSTEM NAME\"        \n"
     ]
    }
   ],
   "source": [
    "%%R\n",
    "\n",
    "colnames(data)\n",
    "# [1] \"SITE ID\" \"LOCATION IDENTIFIER\" \"STREET ADDRESS\" \"TOWN\" \"merged address\" \"STATE\" ...\n",
    "\n"
   ]
  },
  {
   "cell_type": "code",
   "execution_count": 11,
   "metadata": {},
   "outputs": [
    {
     "name": "stdout",
     "output_type": "stream",
     "text": [
      "# A tibble: 6 × 11\n",
      "  `SITE ID` `LOCATION IDENTIFIER` `STREET ADDRESS`  TOWN  `merged address` STATE\n",
      "      <dbl> <chr>                 <chr>             <chr> <chr>            <chr>\n",
      "1 700000246 752 PARK AVE          752 PARK AVE      BRID… 752 PARK AVE BR… CT   \n",
      "2 700001555 745 HANCOCK AVE       745 HANCOCK AVE   BRID… 745 HANCOCK AVE… CT   \n",
      "3 700001611 725 PARK AVE          725 PARK AVE      BRID… 725 PARK AVE BR… CT   \n",
      "4 700001683 25 PRINCETON ST       25 PRINCETON ST   BRID… 25 PRINCETON ST… CT   \n",
      "5 700001756 459 IRANISTAN AVE     459 IRANISTAN AVE BRID… 459 IRANISTAN A… CT   \n",
      "6 700001878 95 JONES AVE          95 JONES AVE      BRID… 95 JONES AVE BR… CT   \n",
      "# ℹ 5 more variables: `BUILDING TYPE` <chr>, PWSID <chr>, `SYSTEM NAME` <chr>,\n",
      "#   lat <dbl>, long <dbl>\n"
     ]
    },
    {
     "data": {
      "text/plain": [
       "Passing 3,944 addresses to the Nominatim single address geocoder\n"
      ]
     },
     "metadata": {},
     "output_type": "display_data"
    }
   ],
   "source": [
    "%%R\n",
    "\n",
    "\n",
    "# Geocode each row based on the 'merged address' column\n",
    "data_geocoded <- data %>%\n",
    "  geocode(address = `merged address`, method = \"osm\")\n",
    "\n",
    "# Check the results\n",
    "head(data_geocoded)\n"
   ]
  },
  {
   "cell_type": "code",
   "execution_count": 12,
   "metadata": {},
   "outputs": [
    {
     "name": "stdout",
     "output_type": "stream",
     "text": [
      "# A tibble: 3,948 × 11\n",
      "   `SITE ID` `LOCATION IDENTIFIER` `STREET ADDRESS` TOWN  `merged address` STATE\n",
      "       <dbl> <chr>                 <chr>            <chr> <chr>            <chr>\n",
      " 1 700000246 752 PARK AVE          752 PARK AVE     BRID… 752 PARK AVE BR… CT   \n",
      " 2 700001555 745 HANCOCK AVE       745 HANCOCK AVE  BRID… 745 HANCOCK AVE… CT   \n",
      " 3 700001611 725 PARK AVE          725 PARK AVE     BRID… 725 PARK AVE BR… CT   \n",
      " 4 700001683 25 PRINCETON ST       25 PRINCETON ST  BRID… 25 PRINCETON ST… CT   \n",
      " 5 700001756 459 IRANISTAN AVE     459 IRANISTAN A… BRID… 459 IRANISTAN A… CT   \n",
      " 6 700001878 95 JONES AVE          95 JONES AVE     BRID… 95 JONES AVE BR… CT   \n",
      " 7 700002813 241 PINE ST           241 PINE ST      BRID… 241 PINE ST BRI… CT   \n",
      " 8 700002952 24 WALLACE ST         24 WALLACE ST    BRID… 24 WALLACE ST B… CT   \n",
      " 9 700003044 3101 MAIN ST          3101 MAIN ST     BRID… 3101 MAIN ST BR… CT   \n",
      "10 700003374 522 FAIRFIELD AVE     522 FAIRFIELD A… BRID… 522 FAIRFIELD A… CT   \n",
      "# ℹ 3,938 more rows\n",
      "# ℹ 5 more variables: `BUILDING TYPE` <chr>, PWSID <chr>, `SYSTEM NAME` <chr>,\n",
      "#   lat <dbl>, long <dbl>\n",
      "# ℹ Use `print(n = ...)` to see more rows\n"
     ]
    }
   ],
   "source": [
    "%%R\n",
    "\n",
    "\n",
    "# Display the first few rows in the console\n",
    "head(data_geocoded)\n",
    "\n",
    "# Or print the entire data frame (if it's not too large)\n",
    "print(data_geocoded)\n"
   ]
  },
  {
   "cell_type": "code",
   "execution_count": 13,
   "metadata": {},
   "outputs": [],
   "source": [
    "%%R\n",
    "\n",
    "write_csv(data_geocoded, \"Aquarion_Water_Co_geocoded.csv\")\n"
   ]
  },
  {
   "cell_type": "markdown",
   "metadata": {},
   "source": [
    "## Windham Water Works\n",
    "No needed - location identifier has latitude and longitude"
   ]
  },
  {
   "cell_type": "markdown",
   "metadata": {},
   "source": [
    "## Waterbury Water Department"
   ]
  },
  {
   "cell_type": "code",
   "execution_count": 14,
   "metadata": {},
   "outputs": [
    {
     "name": "stdout",
     "output_type": "stream",
     "text": [
      "Rows: 952 Columns: 10\n",
      "── Column specification ────────────────────────────────────────────────────────\n",
      "Delimiter: \",\"\n",
      "chr (9): LOCATION IDENTIFIER, STREET ADDRESS, TOWN, merged address, STATE, E...\n",
      "dbl (1): SITE ID\n",
      "\n",
      "ℹ Use `spec()` to retrieve the full column specification for this data.\n",
      "ℹ Specify the column types or set `show_col_types = FALSE` to quiet this message.\n",
      "# A tibble: 6 × 10\n",
      "  `SITE ID` `LOCATION IDENTIFIER` `STREET ADDRESS`  TOWN  `merged address` STATE\n",
      "      <dbl> <chr>                 <chr>             <chr> <chr>            <chr>\n",
      "1    102148 020001860079          120 EASTON AVE    Wate… 120 EASTON AVE … Conn…\n",
      "2    102618 020002060033          107 PLATT ST      Wate… 107 PLATT ST Wa… Conn…\n",
      "3    103178 020002110064          1089 NORTH MAIN … Wate… 1089 NORTH MAIN… Conn…\n",
      "4    103188 020002110066          1063 NORTH MAIN … Wate… 1063 NORTH MAIN… Conn…\n",
      "5    103208 020002110068          1043 NORTH MAIN … Wate… 1043 NORTH MAIN… Conn…\n",
      "6    103218 020002110069          1027 NORTH MAIN … Wate… 1027 NORTH MAIN… Conn…\n",
      "# ℹ 4 more variables: `ENTIRE SERVICE LINE MATERIAL CLASSIFICATION` <chr>,\n",
      "#   `BUILDING TYPE` <chr>, PWSID <chr>, `SYSTEM NAME` <chr>\n"
     ]
    }
   ],
   "source": [
    "%%R\n",
    "\n",
    "# Read in your CSV file (adjust the path if needed)\n",
    "data <- read_csv(\"Waterbury Water Department.csv\")\n",
    "\n",
    "# Preview the data to check the column names and structure\n",
    "print(head(data))"
   ]
  },
  {
   "cell_type": "code",
   "execution_count": 15,
   "metadata": {},
   "outputs": [
    {
     "name": "stdout",
     "output_type": "stream",
     "text": [
      "# A tibble: 6 × 12\n",
      "  `SITE ID` `LOCATION IDENTIFIER` `STREET ADDRESS`  TOWN  `merged address` STATE\n",
      "      <dbl> <chr>                 <chr>             <chr> <chr>            <chr>\n",
      "1    102148 020001860079          120 EASTON AVE    Wate… 120 EASTON AVE … Conn…\n",
      "2    102618 020002060033          107 PLATT ST      Wate… 107 PLATT ST Wa… Conn…\n",
      "3    103178 020002110064          1089 NORTH MAIN … Wate… 1089 NORTH MAIN… Conn…\n",
      "4    103188 020002110066          1063 NORTH MAIN … Wate… 1063 NORTH MAIN… Conn…\n",
      "5    103208 020002110068          1043 NORTH MAIN … Wate… 1043 NORTH MAIN… Conn…\n",
      "6    103218 020002110069          1027 NORTH MAIN … Wate… 1027 NORTH MAIN… Conn…\n",
      "# ℹ 6 more variables: `ENTIRE SERVICE LINE MATERIAL CLASSIFICATION` <chr>,\n",
      "#   `BUILDING TYPE` <chr>, PWSID <chr>, `SYSTEM NAME` <chr>, lat <dbl>,\n",
      "#   long <dbl>\n"
     ]
    },
    {
     "data": {
      "text/plain": [
       "Passing 852 addresses to the Nominatim single address geocoder\n"
      ]
     },
     "metadata": {},
     "output_type": "display_data"
    }
   ],
   "source": [
    "%%R\n",
    "\n",
    "\n",
    "# Geocode each row based on the 'merged address' column\n",
    "data_geocoded <- data %>%\n",
    "  geocode(address = `merged address`, method = \"osm\")\n",
    "\n",
    "# Check the results\n",
    "head(data_geocoded)"
   ]
  },
  {
   "cell_type": "code",
   "execution_count": 16,
   "metadata": {},
   "outputs": [
    {
     "name": "stdout",
     "output_type": "stream",
     "text": [
      "# A tibble: 952 × 12\n",
      "   `SITE ID` `LOCATION IDENTIFIER` `STREET ADDRESS` TOWN  `merged address` STATE\n",
      "       <dbl> <chr>                 <chr>            <chr> <chr>            <chr>\n",
      " 1    102148 020001860079          120 EASTON AVE   Wate… 120 EASTON AVE … Conn…\n",
      " 2    102618 020002060033          107 PLATT ST     Wate… 107 PLATT ST Wa… Conn…\n",
      " 3    103178 020002110064          1089 NORTH MAIN… Wate… 1089 NORTH MAIN… Conn…\n",
      " 4    103188 020002110066          1063 NORTH MAIN… Wate… 1063 NORTH MAIN… Conn…\n",
      " 5    103208 020002110068          1043 NORTH MAIN… Wate… 1043 NORTH MAIN… Conn…\n",
      " 6    103218 020002110069          1027 NORTH MAIN… Wate… 1027 NORTH MAIN… Conn…\n",
      " 7    103368 020002120057          212 EASTON AVE   Wate… 212 EASTON AVE … Conn…\n",
      " 8    103428 020002130056          213 EASTON AVE   Wate… 213 EASTON AVE … Conn…\n",
      " 9    103478 020101990031          1208 NORTH MAIN… Wate… 1208 NORTH MAIN… Conn…\n",
      "10    103488 020101990032          1214 NORTH MAIN… Wate… 1214 NORTH MAIN… Conn…\n",
      "# ℹ 942 more rows\n",
      "# ℹ 6 more variables: `ENTIRE SERVICE LINE MATERIAL CLASSIFICATION` <chr>,\n",
      "#   `BUILDING TYPE` <chr>, PWSID <chr>, `SYSTEM NAME` <chr>, lat <dbl>,\n",
      "#   long <dbl>\n",
      "# ℹ Use `print(n = ...)` to see more rows\n"
     ]
    }
   ],
   "source": [
    "%%R\n",
    "\n",
    "\n",
    "# Display the first few rows in the console\n",
    "head(data_geocoded)\n",
    "\n",
    "# Or print the entire data frame (if it's not too large)\n",
    "print(data_geocoded)"
   ]
  },
  {
   "cell_type": "code",
   "execution_count": 17,
   "metadata": {},
   "outputs": [],
   "source": [
    "%%R\n",
    "\n",
    "write_csv(data_geocoded, \"Waterbury_Water_Department_geocoded.csv\")"
   ]
  },
  {
   "cell_type": "markdown",
   "metadata": {},
   "source": [
    "## New London Dept. of Public Utilities"
   ]
  },
  {
   "cell_type": "code",
   "execution_count": 20,
   "metadata": {},
   "outputs": [
    {
     "name": "stdout",
     "output_type": "stream",
     "text": [
      "Rows: 526 Columns: 15\n",
      "── Column specification ────────────────────────────────────────────────────────\n",
      "Delimiter: \",\"\n",
      "chr (12): SITE ID, LOCATION IDENTIFIER, STREET ADDRESS, TOWN, merged address...\n",
      "lgl  (3): STREET NUMBER, STREET NAME, is_match\n",
      "\n",
      "ℹ Use `spec()` to retrieve the full column specification for this data.\n",
      "ℹ Specify the column types or set `show_col_types = FALSE` to quiet this message.\n",
      "# A tibble: 6 × 15\n",
      "  `SITE ID`  `LOCATION IDENTIFIER` `STREET ADDRESS` TOWN  `merged address` STATE\n",
      "  <chr>      <chr>                 <chr>            <chr> <chr>            <chr>\n",
      "1 6 - 40620  D12-178-19            1 COLVER ST      New … 1 COLVER ST New… CT   \n",
      "2 63 - 38321 F19-66-13             10 Lyman Ct      New … 10 Lyman Ct New… CT   \n",
      "3 75 - 38501 F08-299-10            10 ROSEMARY ST   New … 10 ROSEMARY ST … CT   \n",
      "4 94 - 38859 E19-65-2              100 SCHOOL ST    New … 100 SCHOOL ST N… CT   \n",
      "5 99 - 40630 G26-18-100            1000 OCEAN AVE   New … 1000 OCEAN AVE … CT   \n",
      "6 100 - 411… F26-10-34.01          1001 OCEAN AVE   New … 1001 OCEAN AVE … CT   \n",
      "# ℹ 9 more variables: `ENTIRE SERVICE LINE MATERIAL CLASSIFICATION` <chr>,\n",
      "#   `BUILDING TYPE` <chr>, `SOURCE FILE` <chr>, `STREET NUMBER` <lgl>,\n",
      "#   `STREET NAME` <lgl>, extracted_pswid <chr>, is_match <lgl>, PWSID <chr>,\n",
      "#   `SYSTEM NAME` <chr>\n"
     ]
    }
   ],
   "source": [
    "%%R\n",
    "\n",
    "# Read in your CSV file (adjust the path if needed)\n",
    "data <- read_csv(\"New London Dept. of Public Utilities.csv\")\n",
    "\n",
    "# Preview the data to check the column names and structure\n",
    "print(head(data))"
   ]
  },
  {
   "cell_type": "code",
   "execution_count": 21,
   "metadata": {},
   "outputs": [
    {
     "name": "stdout",
     "output_type": "stream",
     "text": [
      "# A tibble: 6 × 17\n",
      "  `SITE ID`  `LOCATION IDENTIFIER` `STREET ADDRESS` TOWN  `merged address` STATE\n",
      "  <chr>      <chr>                 <chr>            <chr> <chr>            <chr>\n",
      "1 6 - 40620  D12-178-19            1 COLVER ST      New … 1 COLVER ST New… CT   \n",
      "2 63 - 38321 F19-66-13             10 Lyman Ct      New … 10 Lyman Ct New… CT   \n",
      "3 75 - 38501 F08-299-10            10 ROSEMARY ST   New … 10 ROSEMARY ST … CT   \n",
      "4 94 - 38859 E19-65-2              100 SCHOOL ST    New … 100 SCHOOL ST N… CT   \n",
      "5 99 - 40630 G26-18-100            1000 OCEAN AVE   New … 1000 OCEAN AVE … CT   \n",
      "6 100 - 411… F26-10-34.01          1001 OCEAN AVE   New … 1001 OCEAN AVE … CT   \n",
      "# ℹ 11 more variables: `ENTIRE SERVICE LINE MATERIAL CLASSIFICATION` <chr>,\n",
      "#   `BUILDING TYPE` <chr>, `SOURCE FILE` <chr>, `STREET NUMBER` <lgl>,\n",
      "#   `STREET NAME` <lgl>, extracted_pswid <chr>, is_match <lgl>, PWSID <chr>,\n",
      "#   `SYSTEM NAME` <chr>, lat <dbl>, long <dbl>\n"
     ]
    },
    {
     "data": {
      "text/plain": [
       "Passing 526 addresses to the Nominatim single address geocoder\n"
      ]
     },
     "metadata": {},
     "output_type": "display_data"
    }
   ],
   "source": [
    "%%R\n",
    "\n",
    "\n",
    "# Geocode each row based on the 'merged address' column\n",
    "data_geocoded <- data %>%\n",
    "  geocode(address = `merged address`, method = \"osm\")\n",
    "\n",
    "# Check the results\n",
    "head(data_geocoded)"
   ]
  },
  {
   "cell_type": "code",
   "execution_count": 22,
   "metadata": {},
   "outputs": [
    {
     "name": "stdout",
     "output_type": "stream",
     "text": [
      "# A tibble: 526 × 17\n",
      "   `SITE ID` `LOCATION IDENTIFIER` `STREET ADDRESS` TOWN  `merged address` STATE\n",
      "   <chr>     <chr>                 <chr>            <chr> <chr>            <chr>\n",
      " 1 6 - 40620 D12-178-19            1 COLVER ST      New … 1 COLVER ST New… CT   \n",
      " 2 63 - 383… F19-66-13             10 Lyman Ct      New … 10 Lyman Ct New… CT   \n",
      " 3 75 - 385… F08-299-10            10 ROSEMARY ST   New … 10 ROSEMARY ST … CT   \n",
      " 4 94 - 388… E19-65-2              100 SCHOOL ST    New … 100 SCHOOL ST N… CT   \n",
      " 5 99 - 406… G26-18-100            1000 OCEAN AVE   New … 1000 OCEAN AVE … CT   \n",
      " 6 100 - 41… F26-10-34.01          1001 OCEAN AVE   New … 1001 OCEAN AVE … CT   \n",
      " 7 106 - 40… G27-9-13              1007 PEQUOT AVE  New … 1007 PEQUOT AVE… CT   \n",
      " 8 112 - 38… D13-126-49            101 COLMAN ST    New … 101 COLMAN ST N… CT   \n",
      " 9 118 - 40… F13-152-33            101 TRUMAN ST    New … 101 TRUMAN ST N… CT   \n",
      "10 120 - 40… D16-118-159           1011 BANK ST     New … 1011 BANK ST Ne… CT   \n",
      "# ℹ 516 more rows\n",
      "# ℹ 11 more variables: `ENTIRE SERVICE LINE MATERIAL CLASSIFICATION` <chr>,\n",
      "#   `BUILDING TYPE` <chr>, `SOURCE FILE` <chr>, `STREET NUMBER` <lgl>,\n",
      "#   `STREET NAME` <lgl>, extracted_pswid <chr>, is_match <lgl>, PWSID <chr>,\n",
      "#   `SYSTEM NAME` <chr>, lat <dbl>, long <dbl>\n",
      "# ℹ Use `print(n = ...)` to see more rows\n"
     ]
    }
   ],
   "source": [
    "%%R\n",
    "\n",
    "\n",
    "# Display the first few rows in the console\n",
    "head(data_geocoded)\n",
    "\n",
    "# Or print the entire data frame (if it's not too large)\n",
    "print(data_geocoded)"
   ]
  },
  {
   "cell_type": "code",
   "execution_count": 23,
   "metadata": {},
   "outputs": [],
   "source": [
    "%%R\n",
    "\n",
    "write_csv(data_geocoded, \"New_London_geocoded.csv\")"
   ]
  },
  {
   "cell_type": "markdown",
   "metadata": {},
   "source": [
    "## Aquarion Water Co of CT-Greenwich"
   ]
  },
  {
   "cell_type": "code",
   "execution_count": 26,
   "metadata": {},
   "outputs": [
    {
     "name": "stdout",
     "output_type": "stream",
     "text": [
      "Rows: 1552 Columns: 15\n",
      "── Column specification ────────────────────────────────────────────────────────\n",
      "Delimiter: \",\"\n",
      "chr (11): LOCATION IDENTIFIER, STREET ADDRESS, TOWN, merged address, STATE, ...\n",
      "dbl  (1): SITE ID\n",
      "lgl  (3): STREET NUMBER, STREET NAME, is_match\n",
      "\n",
      "ℹ Use `spec()` to retrieve the full column specification for this data.\n",
      "ℹ Specify the column types or set `show_col_types = FALSE` to quiet this message.\n",
      "# A tibble: 6 × 15\n",
      "  `SITE ID` `LOCATION IDENTIFIER` `STREET ADDRESS`  TOWN  `merged address` STATE\n",
      "      <dbl> <chr>                 <chr>             <chr> <chr>            <chr>\n",
      "1 700152103 9 TINGUE ST           9 TINGUE ST       BYRAM 9 TINGUE ST BYR… CT   \n",
      "2 700164929 223 COGNEWAUGH RD     223 COGNEWAUGH RD COS … 223 COGNEWAUGH … CT   \n",
      "3 700224686 48 VALLEY RD          48 VALLEY RD      COS … 48 VALLEY RD CO… CT   \n",
      "4 700148694 30 RIVER RD           30 RIVER RD       COS … 30 RIVER RD COS… CT   \n",
      "5 700148819 8 MIAMI CT            8 MIAMI CT        COS … 8 MIAMI CT COS … CT   \n",
      "6 700148826 6 MIAMI CT            6 MIAMI CT        COS … 6 MIAMI CT COS … CT   \n",
      "# ℹ 9 more variables: `ENTIRE SERVICE LINE MATERIAL CLASSIFICATION` <chr>,\n",
      "#   `BUILDING TYPE` <chr>, `SOURCE FILE` <chr>, `STREET NUMBER` <lgl>,\n",
      "#   `STREET NAME` <lgl>, extracted_pswid <chr>, is_match <lgl>, PWSID <chr>,\n",
      "#   `SYSTEM NAME` <chr>\n"
     ]
    }
   ],
   "source": [
    "%%R\n",
    "\n",
    "# Read in your CSV file (adjust the path if needed)\n",
    "data <- read_csv(\"Aquarion Water Co of CT-Greenwich.csv\")\n",
    "\n",
    "# Preview the data to check the column names and structure\n",
    "print(head(data))"
   ]
  },
  {
   "cell_type": "code",
   "execution_count": 27,
   "metadata": {},
   "outputs": [
    {
     "name": "stdout",
     "output_type": "stream",
     "text": [
      "# A tibble: 6 × 17\n",
      "  `SITE ID` `LOCATION IDENTIFIER` `STREET ADDRESS`  TOWN  `merged address` STATE\n",
      "      <dbl> <chr>                 <chr>             <chr> <chr>            <chr>\n",
      "1 700152103 9 TINGUE ST           9 TINGUE ST       BYRAM 9 TINGUE ST BYR… CT   \n",
      "2 700164929 223 COGNEWAUGH RD     223 COGNEWAUGH RD COS … 223 COGNEWAUGH … CT   \n",
      "3 700224686 48 VALLEY RD          48 VALLEY RD      COS … 48 VALLEY RD CO… CT   \n",
      "4 700148694 30 RIVER RD           30 RIVER RD       COS … 30 RIVER RD COS… CT   \n",
      "5 700148819 8 MIAMI CT            8 MIAMI CT        COS … 8 MIAMI CT COS … CT   \n",
      "6 700148826 6 MIAMI CT            6 MIAMI CT        COS … 6 MIAMI CT COS … CT   \n",
      "# ℹ 11 more variables: `ENTIRE SERVICE LINE MATERIAL CLASSIFICATION` <chr>,\n",
      "#   `BUILDING TYPE` <chr>, `SOURCE FILE` <chr>, `STREET NUMBER` <lgl>,\n",
      "#   `STREET NAME` <lgl>, extracted_pswid <chr>, is_match <lgl>, PWSID <chr>,\n",
      "#   `SYSTEM NAME` <chr>, lat <dbl>, long <dbl>\n"
     ]
    },
    {
     "data": {
      "text/plain": [
       "Passing 1,549 addresses to the Nominatim single address geocoder\n"
      ]
     },
     "metadata": {},
     "output_type": "display_data"
    }
   ],
   "source": [
    "%%R\n",
    "\n",
    "\n",
    "# Geocode each row based on the 'merged address' column\n",
    "data_geocoded <- data %>%\n",
    "  geocode(address = `merged address`, method = \"osm\")\n",
    "\n",
    "# Check the results\n",
    "head(data_geocoded)"
   ]
  },
  {
   "cell_type": "code",
   "execution_count": 28,
   "metadata": {},
   "outputs": [
    {
     "name": "stdout",
     "output_type": "stream",
     "text": [
      "# A tibble: 1,552 × 17\n",
      "   `SITE ID` `LOCATION IDENTIFIER` `STREET ADDRESS` TOWN  `merged address` STATE\n",
      "       <dbl> <chr>                 <chr>            <chr> <chr>            <chr>\n",
      " 1 700152103 9 TINGUE ST           9 TINGUE ST      BYRAM 9 TINGUE ST BYR… CT   \n",
      " 2 700164929 223 COGNEWAUGH RD     223 COGNEWAUGH … COS … 223 COGNEWAUGH … CT   \n",
      " 3 700224686 48 VALLEY RD          48 VALLEY RD     COS … 48 VALLEY RD CO… CT   \n",
      " 4 700148694 30 RIVER RD           30 RIVER RD      COS … 30 RIVER RD COS… CT   \n",
      " 5 700148819 8 MIAMI CT            8 MIAMI CT       COS … 8 MIAMI CT COS … CT   \n",
      " 6 700148826 6 MIAMI CT            6 MIAMI CT       COS … 6 MIAMI CT COS … CT   \n",
      " 7 700148837 4 MEAD AVE            4 MEAD AVE       COS … 4 MEAD AVE COS … CT   \n",
      " 8 700148914 521 E PUTNAM AVE      521 E PUTNAM AVE COS … 521 E PUTNAM AV… CT   \n",
      " 9 700148930 525 E PUTNAM AVE      525 E PUTNAM AVE COS … 525 E PUTNAM AV… CT   \n",
      "10 700148936 531 PUTNAM AVE E      531 PUTNAM AVE E COS … 531 PUTNAM AVE … CT   \n",
      "# ℹ 1,542 more rows\n",
      "# ℹ 11 more variables: `ENTIRE SERVICE LINE MATERIAL CLASSIFICATION` <chr>,\n",
      "#   `BUILDING TYPE` <chr>, `SOURCE FILE` <chr>, `STREET NUMBER` <lgl>,\n",
      "#   `STREET NAME` <lgl>, extracted_pswid <chr>, is_match <lgl>, PWSID <chr>,\n",
      "#   `SYSTEM NAME` <chr>, lat <dbl>, long <dbl>\n",
      "# ℹ Use `print(n = ...)` to see more rows\n"
     ]
    }
   ],
   "source": [
    "%%R\n",
    "\n",
    "\n",
    "# Display the first few rows in the console\n",
    "head(data_geocoded)\n",
    "\n",
    "# Or print the entire data frame (if it's not too large)\n",
    "print(data_geocoded)"
   ]
  },
  {
   "cell_type": "code",
   "execution_count": 29,
   "metadata": {},
   "outputs": [],
   "source": [
    "%%R\n",
    "\n",
    "write_csv(data_geocoded, \"Aquarion_Greenwich_geocoded.csv\")"
   ]
  },
  {
   "cell_type": "markdown",
   "metadata": {},
   "source": [
    "## Middletown Water Department"
   ]
  },
  {
   "cell_type": "code",
   "execution_count": 6,
   "metadata": {},
   "outputs": [
    {
     "name": "stdout",
     "output_type": "stream",
     "text": [
      "Rows: 257 Columns: 15\n",
      "── Column specification ────────────────────────────────────────────────────────\n",
      "Delimiter: \",\"\n",
      "chr (12): SITE ID, LOCATION IDENTIFIER, STREET ADDRESS, TOWN, merged address...\n",
      "lgl  (3): STREET NUMBER, STREET NAME, is_match\n",
      "\n",
      "ℹ Use `spec()` to retrieve the full column specification for this data.\n",
      "ℹ Specify the column types or set `show_col_types = FALSE` to quiet this message.\n",
      "# A tibble: 6 × 15\n",
      "  `SITE ID` `LOCATION IDENTIFIER`  `STREET ADDRESS` TOWN  `merged address` STATE\n",
      "  <chr>     <chr>                  <chr>            <chr> <chr>            <chr>\n",
      "1 00000007R 353 MAIN STREET, MIDD… 353 MAIN STREET  MIDD… 353 MAIN STREET… CT   \n",
      "2 00000032C 291 MAIN STREET, MIDD… 291 MAIN STREET  MIDD… 291 MAIN STREET… CT   \n",
      "3 00000042R 241 COURT STREET, MID… 241 COURT STREET MIDD… 241 COURT STREE… CT   \n",
      "4 00000050R 346 MAIN STREET, MIDD… 346 MAIN STREET  MIDD… 346 MAIN STREET… CT   \n",
      "5 00000071R 318 MAIN STREET, MIDD… 318 MAIN STREET  MIDD… 318 MAIN STREET… CT   \n",
      "6 00000093R 15 PORTLAND STREET, M… 15 PORTLAND STR… MIDD… 15 PORTLAND STR… CT   \n",
      "# ℹ 9 more variables: `ENTIRE SERVICE LINE MATERIAL CLASSIFICATION` <chr>,\n",
      "#   `BUILDING TYPE` <chr>, `SOURCE FILE` <chr>, `STREET NUMBER` <lgl>,\n",
      "#   `STREET NAME` <lgl>, extracted_pswid <chr>, is_match <lgl>, PWSID <chr>,\n",
      "#   `SYSTEM NAME` <chr>\n"
     ]
    }
   ],
   "source": [
    "%%R\n",
    "\n",
    "# Read in your CSV file (adjust the path if needed)\n",
    "data <- read_csv(\"Middletown Water Department.csv\")\n",
    "\n",
    "# Preview the data to check the column names and structure\n",
    "print(head(data))"
   ]
  },
  {
   "cell_type": "code",
   "execution_count": 7,
   "metadata": {},
   "outputs": [
    {
     "name": "stdout",
     "output_type": "stream",
     "text": [
      "# A tibble: 6 × 17\n",
      "  `SITE ID` `LOCATION IDENTIFIER`  `STREET ADDRESS` TOWN  `merged address` STATE\n",
      "  <chr>     <chr>                  <chr>            <chr> <chr>            <chr>\n",
      "1 00000007R 353 MAIN STREET, MIDD… 353 MAIN STREET  MIDD… 353 MAIN STREET… CT   \n",
      "2 00000032C 291 MAIN STREET, MIDD… 291 MAIN STREET  MIDD… 291 MAIN STREET… CT   \n",
      "3 00000042R 241 COURT STREET, MID… 241 COURT STREET MIDD… 241 COURT STREE… CT   \n",
      "4 00000050R 346 MAIN STREET, MIDD… 346 MAIN STREET  MIDD… 346 MAIN STREET… CT   \n",
      "5 00000071R 318 MAIN STREET, MIDD… 318 MAIN STREET  MIDD… 318 MAIN STREET… CT   \n",
      "6 00000093R 15 PORTLAND STREET, M… 15 PORTLAND STR… MIDD… 15 PORTLAND STR… CT   \n",
      "# ℹ 11 more variables: `ENTIRE SERVICE LINE MATERIAL CLASSIFICATION` <chr>,\n",
      "#   `BUILDING TYPE` <chr>, `SOURCE FILE` <chr>, `STREET NUMBER` <lgl>,\n",
      "#   `STREET NAME` <lgl>, extracted_pswid <chr>, is_match <lgl>, PWSID <chr>,\n",
      "#   `SYSTEM NAME` <chr>, lat <dbl>, long <dbl>\n"
     ]
    },
    {
     "data": {
      "text/plain": [
       "Passing 257 addresses to the Nominatim single address geocoder\n"
      ]
     },
     "metadata": {},
     "output_type": "display_data"
    }
   ],
   "source": [
    "%%R\n",
    "\n",
    "\n",
    "# Geocode each row based on the 'merged address' column\n",
    "data_geocoded <- data %>%\n",
    "  geocode(address = `merged address`, method = \"osm\")\n",
    "\n",
    "# Check the results\n",
    "head(data_geocoded)"
   ]
  },
  {
   "cell_type": "code",
   "execution_count": 8,
   "metadata": {},
   "outputs": [
    {
     "name": "stdout",
     "output_type": "stream",
     "text": [
      "# A tibble: 257 × 17\n",
      "   `SITE ID` `LOCATION IDENTIFIER` `STREET ADDRESS` TOWN  `merged address` STATE\n",
      "   <chr>     <chr>                 <chr>            <chr> <chr>            <chr>\n",
      " 1 00000007R 353 MAIN STREET, MID… 353 MAIN STREET  MIDD… 353 MAIN STREET… CT   \n",
      " 2 00000032C 291 MAIN STREET, MID… 291 MAIN STREET  MIDD… 291 MAIN STREET… CT   \n",
      " 3 00000042R 241 COURT STREET, MI… 241 COURT STREET MIDD… 241 COURT STREE… CT   \n",
      " 4 00000050R 346 MAIN STREET, MID… 346 MAIN STREET  MIDD… 346 MAIN STREET… CT   \n",
      " 5 00000071R 318 MAIN STREET, MID… 318 MAIN STREET  MIDD… 318 MAIN STREET… CT   \n",
      " 6 00000093R 15 PORTLAND STREET, … 15 PORTLAND STR… MIDD… 15 PORTLAND STR… CT   \n",
      " 7 00000095R 13 LIBERTY STREET, M… 13 LIBERTY STRE… MIDD… 13 LIBERTY STRE… CT   \n",
      " 8 00000102R 111 RESERVOIR ROAD, … 111 RESERVOIR R… MIDD… 111 RESERVOIR R… CT   \n",
      " 9 00000156R 430 BOSTON ROAD, MID… 430 BOSTON ROAD  MIDD… 430 BOSTON ROAD… CT   \n",
      "10 00000165R 186 COLLEGE STREET, … 186 COLLEGE STR… MIDD… 186 COLLEGE STR… CT   \n",
      "# ℹ 247 more rows\n",
      "# ℹ 11 more variables: `ENTIRE SERVICE LINE MATERIAL CLASSIFICATION` <chr>,\n",
      "#   `BUILDING TYPE` <chr>, `SOURCE FILE` <chr>, `STREET NUMBER` <lgl>,\n",
      "#   `STREET NAME` <lgl>, extracted_pswid <chr>, is_match <lgl>, PWSID <chr>,\n",
      "#   `SYSTEM NAME` <chr>, lat <dbl>, long <dbl>\n",
      "# ℹ Use `print(n = ...)` to see more rows\n"
     ]
    }
   ],
   "source": [
    "%%R\n",
    "\n",
    "\n",
    "# Display the first few rows in the console\n",
    "head(data_geocoded)\n",
    "\n",
    "# Or print the entire data frame (if it's not too large)\n",
    "print(data_geocoded)"
   ]
  },
  {
   "cell_type": "code",
   "execution_count": 9,
   "metadata": {},
   "outputs": [],
   "source": [
    "%%R\n",
    "\n",
    "write_csv(data_geocoded, \"Middletown_geocoded.csv\")"
   ]
  },
  {
   "cell_type": "markdown",
   "metadata": {},
   "source": [
    "## Meriden Water Division\n",
    "No needed - location identifier has latitude and longitude"
   ]
  },
  {
   "cell_type": "markdown",
   "metadata": {},
   "source": []
  }
 ],
 "metadata": {
  "kernelspec": {
   "display_name": "Python 3",
   "language": "python",
   "name": "python3"
  },
  "language_info": {
   "codemirror_mode": {
    "name": "ipython",
    "version": 3
   },
   "file_extension": ".py",
   "mimetype": "text/x-python",
   "name": "python",
   "nbconvert_exporter": "python",
   "pygments_lexer": "ipython3",
   "version": "3.10.15"
  }
 },
 "nbformat": 4,
 "nbformat_minor": 2
}
